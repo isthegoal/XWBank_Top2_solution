{
 "cells": [
  {
   "cell_type": "code",
   "execution_count": 22,
   "metadata": {},
   "outputs": [],
   "source": [
    "import numpy as np\n",
    "import pandas as pd\n",
    "from pandas import DataFrame\n",
    "from pandas import Series\n",
    "import matplotlib\n",
    "import matplotlib.pyplot as plt\n",
    "import time \n",
    "import operator\n",
    "\n",
    "%matplotlib inline\n"
   ]
  },
  {
   "cell_type": "code",
   "execution_count": 23,
   "metadata": {},
   "outputs": [
    {
     "name": "stdout",
     "output_type": "stream",
     "text": [
      "(15000, 160)\n",
      "(10000, 159)\n",
      "(10000, 159)\n"
     ]
    }
   ],
   "source": [
    "# 读取文件\n",
    "train_xy = pd.read_csv(\"data/train_xy.csv\",header=0,sep=\",\")\n",
    "train_x = pd.read_csv(\"data/train_x.csv\",header=0,sep=\",\")\n",
    "test_all = pd.read_csv(\"data/test_all.csv\",header=0,sep=\",\")\n",
    "print(train_xy.shape)\n",
    "print(train_x.shape)\n",
    "print(test_all.shape)"
   ]
  },
  {
   "cell_type": "code",
   "execution_count": 24,
   "metadata": {},
   "outputs": [],
   "source": [
    "train = train_xy.copy()\n",
    "test = test_all.copy()"
   ]
  },
  {
   "cell_type": "code",
   "execution_count": 25,
   "metadata": {},
   "outputs": [
    {
     "name": "stdout",
     "output_type": "stream",
     "text": [
      "<class 'pandas.core.frame.DataFrame'>\n",
      "RangeIndex: 15000 entries, 0 to 14999\n",
      "Columns: 160 entries, cust_id to x_157\n",
      "dtypes: float64(6), int64(153), object(1)\n",
      "memory usage: 18.3+ MB\n"
     ]
    }
   ],
   "source": [
    "train_xy.info()"
   ]
  },
  {
   "cell_type": "code",
   "execution_count": 26,
   "metadata": {},
   "outputs": [],
   "source": [
    "# -----------------------------特征简单信息分析----------------------------------"
   ]
  },
  {
   "cell_type": "code",
   "execution_count": 27,
   "metadata": {},
   "outputs": [
    {
     "name": "stdout",
     "output_type": "stream",
     "text": [
      "cust_id===== int64\n",
      "cust_group===== object\n",
      "y===== int64\n",
      "x_1===== float64\n",
      "x_2===== float64\n",
      "x_3===== int64\n",
      "x_4===== int64\n",
      "x_5===== int64\n",
      "x_6===== int64\n",
      "x_7===== int64\n",
      "x_8===== int64\n",
      "x_9===== int64\n",
      "x_10===== int64\n",
      "x_11===== int64\n",
      "x_12===== int64\n",
      "x_13===== int64\n",
      "x_14===== int64\n",
      "x_15===== int64\n",
      "x_16===== int64\n",
      "x_17===== int64\n",
      "x_18===== int64\n",
      "x_19===== int64\n",
      "x_20===== int64\n",
      "x_21===== int64\n",
      "x_22===== int64\n",
      "x_23===== int64\n",
      "x_24===== int64\n",
      "x_25===== int64\n",
      "x_26===== int64\n",
      "x_27===== int64\n",
      "x_28===== int64\n",
      "x_29===== int64\n",
      "x_30===== int64\n",
      "x_31===== int64\n",
      "x_32===== int64\n",
      "x_33===== int64\n",
      "x_34===== int64\n",
      "x_35===== int64\n",
      "x_36===== int64\n",
      "x_37===== int64\n",
      "x_38===== int64\n",
      "x_39===== int64\n",
      "x_40===== int64\n",
      "x_41===== int64\n",
      "x_42===== int64\n",
      "x_43===== int64\n",
      "x_44===== int64\n",
      "x_45===== int64\n",
      "x_46===== int64\n",
      "x_47===== int64\n",
      "x_48===== int64\n",
      "x_49===== int64\n",
      "x_50===== int64\n",
      "x_51===== int64\n",
      "x_52===== int64\n",
      "x_53===== int64\n",
      "x_54===== int64\n",
      "x_55===== int64\n",
      "x_56===== int64\n",
      "x_57===== int64\n",
      "x_58===== int64\n",
      "x_59===== int64\n",
      "x_60===== int64\n",
      "x_61===== int64\n",
      "x_62===== int64\n",
      "x_63===== int64\n",
      "x_64===== int64\n",
      "x_65===== int64\n",
      "x_66===== int64\n",
      "x_67===== int64\n",
      "x_68===== int64\n",
      "x_69===== int64\n",
      "x_70===== int64\n",
      "x_71===== int64\n",
      "x_72===== int64\n",
      "x_73===== int64\n",
      "x_74===== int64\n",
      "x_75===== int64\n",
      "x_76===== int64\n",
      "x_77===== int64\n",
      "x_78===== int64\n",
      "x_79===== int64\n",
      "x_80===== float64\n",
      "x_81===== float64\n",
      "x_82===== int64\n",
      "x_83===== int64\n",
      "x_84===== int64\n",
      "x_85===== int64\n",
      "x_86===== int64\n",
      "x_87===== int64\n",
      "x_88===== int64\n",
      "x_89===== int64\n",
      "x_90===== int64\n",
      "x_91===== int64\n",
      "x_92===== int64\n",
      "x_93===== float64\n",
      "x_94===== int64\n",
      "x_95===== float64\n",
      "x_96===== int64\n",
      "x_97===== int64\n",
      "x_98===== int64\n",
      "x_99===== int64\n",
      "x_100===== int64\n",
      "x_101===== int64\n",
      "x_102===== int64\n",
      "x_103===== int64\n",
      "x_104===== int64\n",
      "x_105===== int64\n",
      "x_106===== int64\n",
      "x_107===== int64\n",
      "x_108===== int64\n",
      "x_109===== int64\n",
      "x_110===== int64\n",
      "x_111===== int64\n",
      "x_112===== int64\n",
      "x_113===== int64\n",
      "x_114===== int64\n",
      "x_115===== int64\n",
      "x_116===== int64\n",
      "x_117===== int64\n",
      "x_118===== int64\n",
      "x_119===== int64\n",
      "x_120===== int64\n",
      "x_121===== int64\n",
      "x_122===== int64\n",
      "x_123===== int64\n",
      "x_124===== int64\n",
      "x_125===== int64\n",
      "x_126===== int64\n",
      "x_127===== int64\n",
      "x_128===== int64\n",
      "x_129===== int64\n",
      "x_130===== int64\n",
      "x_131===== int64\n",
      "x_132===== int64\n",
      "x_133===== int64\n",
      "x_134===== int64\n",
      "x_135===== int64\n",
      "x_136===== int64\n",
      "x_137===== int64\n",
      "x_138===== int64\n",
      "x_139===== int64\n",
      "x_140===== int64\n",
      "x_141===== int64\n",
      "x_142===== int64\n",
      "x_143===== int64\n",
      "x_144===== int64\n",
      "x_145===== int64\n",
      "x_146===== int64\n",
      "x_147===== int64\n",
      "x_148===== int64\n",
      "x_149===== int64\n",
      "x_150===== int64\n",
      "x_151===== int64\n",
      "x_152===== int64\n",
      "x_153===== int64\n",
      "x_154===== int64\n",
      "x_155===== int64\n",
      "x_156===== int64\n",
      "x_157===== int64\n"
     ]
    }
   ],
   "source": [
    "for feature in train_xy.columns:\n",
    "    print(feature + '===== '+ str(train_xy[feature].dtype))\n",
    "''' # 这四个值的重要性很高\n",
    "x_1===== float64\n",
    "x_2===== float64\n",
    "x_80===== float64\n",
    "x_81===== float64\n",
    "x_93===== float64\n",
    "x_95===== float64\n",
    "\n",
    "其他均为int64---类别型，需要转化为int\n",
    "'''\n",
    "pass"
   ]
  },
  {
   "cell_type": "code",
   "execution_count": 7,
   "metadata": {
    "scrolled": true
   },
   "outputs": [
    {
     "name": "stdout",
     "output_type": "stream",
     "text": [
      "Feature(cust_id) ----- count(15000)\n",
      "Feature(cust_group) ----- count(3)\n",
      "Feature(y) ----- count(2)\n",
      "Feature(x_1) ----- count(44)\n",
      "Feature(x_2) ----- count(12409)\n",
      "Feature(x_3) ----- count(5)\n",
      "Feature(x_4) ----- count(7)\n",
      "Feature(x_5) ----- count(5)\n",
      "Feature(x_6) ----- count(2)\n",
      "Feature(x_7) ----- count(12)\n",
      "Feature(x_8) ----- count(11)\n",
      "Feature(x_9) ----- count(6)\n",
      "Feature(x_10) ----- count(8)\n",
      "Feature(x_11) ----- count(6)\n",
      "Feature(x_12) ----- count(2)\n",
      "Feature(x_13) ----- count(19)\n",
      "Feature(x_14) ----- count(16)\n",
      "Feature(x_15) ----- count(7)\n",
      "Feature(x_16) ----- count(9)\n",
      "Feature(x_17) ----- count(6)\n",
      "Feature(x_18) ----- count(2)\n",
      "Feature(x_19) ----- count(17)\n",
      "Feature(x_20) ----- count(13)\n",
      "Feature(x_21) ----- count(8)\n",
      "Feature(x_22) ----- count(8)\n",
      "Feature(x_23) ----- count(2)\n",
      "Feature(x_24) ----- count(26)\n",
      "Feature(x_25) ----- count(7)\n",
      "Feature(x_26) ----- count(10)\n",
      "Feature(x_27) ----- count(6)\n",
      "Feature(x_28) ----- count(2)\n",
      "Feature(x_29) ----- count(25)\n",
      "Feature(x_30) ----- count(18)\n",
      "Feature(x_31) ----- count(8)\n",
      "Feature(x_32) ----- count(10)\n",
      "Feature(x_33) ----- count(7)\n",
      "Feature(x_34) ----- count(2)\n",
      "Feature(x_35) ----- count(39)\n",
      "Feature(x_36) ----- count(26)\n",
      "Feature(x_37) ----- count(6)\n",
      "Feature(x_38) ----- count(20)\n",
      "Feature(x_39) ----- count(12)\n",
      "Feature(x_40) ----- count(12)\n",
      "Feature(x_41) ----- count(17)\n",
      "Feature(x_42) ----- count(17)\n",
      "Feature(x_43) ----- count(12)\n",
      "Feature(x_44) ----- count(12)\n",
      "Feature(x_45) ----- count(12)\n",
      "Feature(x_46) ----- count(11)\n",
      "Feature(x_47) ----- count(17)\n",
      "Feature(x_48) ----- count(11)\n",
      "Feature(x_49) ----- count(6)\n",
      "Feature(x_50) ----- count(12)\n",
      "Feature(x_51) ----- count(17)\n",
      "Feature(x_52) ----- count(17)\n",
      "Feature(x_53) ----- count(17)\n",
      "Feature(x_54) ----- count(17)\n",
      "Feature(x_55) ----- count(17)\n",
      "Feature(x_56) ----- count(17)\n",
      "Feature(x_57) ----- count(17)\n",
      "Feature(x_58) ----- count(11)\n",
      "Feature(x_59) ----- count(12)\n",
      "Feature(x_60) ----- count(12)\n",
      "Feature(x_61) ----- count(7)\n",
      "Feature(x_62) ----- count(7)\n",
      "Feature(x_63) ----- count(7)\n",
      "Feature(x_64) ----- count(12)\n",
      "Feature(x_65) ----- count(12)\n",
      "Feature(x_66) ----- count(12)\n",
      "Feature(x_67) ----- count(12)\n",
      "Feature(x_68) ----- count(12)\n",
      "Feature(x_69) ----- count(12)\n",
      "Feature(x_70) ----- count(8)\n",
      "Feature(x_71) ----- count(9)\n",
      "Feature(x_72) ----- count(10)\n",
      "Feature(x_73) ----- count(9)\n",
      "Feature(x_74) ----- count(11)\n",
      "Feature(x_75) ----- count(10)\n",
      "Feature(x_76) ----- count(11)\n",
      "Feature(x_77) ----- count(11)\n",
      "Feature(x_78) ----- count(9)\n",
      "Feature(x_79) ----- count(11)\n",
      "Feature(x_80) ----- count(276)\n",
      "Feature(x_81) ----- count(128)\n",
      "Feature(x_82) ----- count(5)\n",
      "Feature(x_83) ----- count(11)\n",
      "Feature(x_84) ----- count(17)\n",
      "Feature(x_85) ----- count(6)\n",
      "Feature(x_86) ----- count(11)\n",
      "Feature(x_87) ----- count(7)\n",
      "Feature(x_88) ----- count(16)\n",
      "Feature(x_89) ----- count(16)\n",
      "Feature(x_90) ----- count(4)\n",
      "Feature(x_91) ----- count(4)\n",
      "Feature(x_92) ----- count(2)\n",
      "Feature(x_93) ----- count(65)\n",
      "Feature(x_94) ----- count(2)\n",
      "Feature(x_95) ----- count(93)\n",
      "Feature(x_96) ----- count(2)\n",
      "Feature(x_97) ----- count(4)\n",
      "Feature(x_98) ----- count(4)\n",
      "Feature(x_99) ----- count(3)\n",
      "Feature(x_100) ----- count(3)\n",
      "Feature(x_101) ----- count(3)\n",
      "Feature(x_102) ----- count(2)\n",
      "Feature(x_103) ----- count(3)\n",
      "Feature(x_104) ----- count(4)\n",
      "Feature(x_105) ----- count(4)\n",
      "Feature(x_106) ----- count(3)\n",
      "Feature(x_107) ----- count(2)\n",
      "Feature(x_108) ----- count(4)\n",
      "Feature(x_109) ----- count(3)\n",
      "Feature(x_110) ----- count(1)\n",
      "Feature(x_111) ----- count(4)\n",
      "Feature(x_112) ----- count(1)\n",
      "Feature(x_113) ----- count(2)\n",
      "Feature(x_114) ----- count(2)\n",
      "Feature(x_115) ----- count(3)\n",
      "Feature(x_116) ----- count(1)\n",
      "Feature(x_117) ----- count(3)\n",
      "Feature(x_118) ----- count(2)\n",
      "Feature(x_119) ----- count(3)\n",
      "Feature(x_120) ----- count(3)\n",
      "Feature(x_121) ----- count(4)\n",
      "Feature(x_122) ----- count(4)\n",
      "Feature(x_123) ----- count(3)\n",
      "Feature(x_124) ----- count(3)\n",
      "Feature(x_125) ----- count(3)\n",
      "Feature(x_126) ----- count(2)\n",
      "Feature(x_127) ----- count(4)\n",
      "Feature(x_128) ----- count(3)\n",
      "Feature(x_129) ----- count(1)\n",
      "Feature(x_130) ----- count(3)\n",
      "Feature(x_131) ----- count(2)\n",
      "Feature(x_132) ----- count(1)\n",
      "Feature(x_133) ----- count(2)\n",
      "Feature(x_134) ----- count(1)\n",
      "Feature(x_135) ----- count(2)\n",
      "Feature(x_136) ----- count(3)\n",
      "Feature(x_137) ----- count(2)\n",
      "Feature(x_138) ----- count(2)\n",
      "Feature(x_139) ----- count(3)\n",
      "Feature(x_140) ----- count(3)\n",
      "Feature(x_141) ----- count(7)\n",
      "Feature(x_142) ----- count(3)\n",
      "Feature(x_143) ----- count(3)\n",
      "Feature(x_144) ----- count(4)\n",
      "Feature(x_145) ----- count(3)\n",
      "Feature(x_146) ----- count(3)\n",
      "Feature(x_147) ----- count(4)\n",
      "Feature(x_148) ----- count(4)\n",
      "Feature(x_149) ----- count(4)\n",
      "Feature(x_150) ----- count(4)\n",
      "Feature(x_151) ----- count(2)\n",
      "Feature(x_152) ----- count(3)\n",
      "Feature(x_153) ----- count(4)\n",
      "Feature(x_154) ----- count(4)\n",
      "Feature(x_155) ----- count(4)\n",
      "Feature(x_156) ----- count(4)\n",
      "Feature(x_157) ----- count(7)\n"
     ]
    }
   ],
   "source": [
    "for feature in train_xy.columns:\n",
    "    uniq_num = len(train_xy[feature].unique())\n",
    "    print(\"Feature(%s) ----- count(%d)\" % (feature, uniq_num))\n",
    "'''\n",
    "【1】特征变量名称以“x_”开头， 其中，特征变量x1-x95是数值型变量，x96-x157是类别型变量，x变量的缺失值统一以-99表示。\n",
    "【2】标签变量名称为“y”，0代表低风险客户，1代表高风险客户。\n",
    "【3】数据集中共包括3个代表不同产品或不同特征的客群信息，客群标示变量名为“cust_group”，不同取值代表不同客群客户。\n",
    "'''\n",
    "pass"
   ]
  },
  {
   "cell_type": "markdown",
   "metadata": {},
   "source": [
    "以上形式中，前面的数值型数据的类别较少，我在想可能是经过分箱之后的特征"
   ]
  },
  {
   "cell_type": "code",
   "execution_count": 8,
   "metadata": {
    "scrolled": true
   },
   "outputs": [
    {
     "name": "stdout",
     "output_type": "stream",
     "text": [
      "Feature(cust_group) ----- count(3)\n",
      "Feature(y) ----- count(2)\n",
      "Feature(x_3) ----- count(5)\n",
      "Feature(x_4) ----- count(7)\n",
      "Feature(x_5) ----- count(5)\n",
      "Feature(x_6) ----- count(2)\n",
      "Feature(x_9) ----- count(6)\n",
      "Feature(x_10) ----- count(8)\n",
      "Feature(x_11) ----- count(6)\n",
      "Feature(x_12) ----- count(2)\n",
      "Feature(x_15) ----- count(7)\n",
      "Feature(x_16) ----- count(9)\n",
      "Feature(x_17) ----- count(6)\n",
      "Feature(x_18) ----- count(2)\n",
      "Feature(x_21) ----- count(8)\n",
      "Feature(x_22) ----- count(8)\n",
      "Feature(x_23) ----- count(2)\n",
      "Feature(x_25) ----- count(7)\n",
      "Feature(x_26) ----- count(10)\n",
      "Feature(x_27) ----- count(6)\n",
      "Feature(x_28) ----- count(2)\n",
      "Feature(x_31) ----- count(8)\n",
      "Feature(x_32) ----- count(10)\n",
      "Feature(x_33) ----- count(7)\n",
      "Feature(x_34) ----- count(2)\n",
      "Feature(x_37) ----- count(6)\n",
      "Feature(x_49) ----- count(6)\n",
      "Feature(x_61) ----- count(7)\n",
      "Feature(x_62) ----- count(7)\n",
      "Feature(x_63) ----- count(7)\n",
      "Feature(x_70) ----- count(8)\n",
      "Feature(x_71) ----- count(9)\n",
      "Feature(x_72) ----- count(10)\n",
      "Feature(x_73) ----- count(9)\n",
      "Feature(x_75) ----- count(10)\n",
      "Feature(x_78) ----- count(9)\n",
      "Feature(x_82) ----- count(5)\n",
      "Feature(x_85) ----- count(6)\n",
      "Feature(x_87) ----- count(7)\n",
      "Feature(x_90) ----- count(4)\n",
      "Feature(x_91) ----- count(4)\n",
      "Feature(x_92) ----- count(2)\n",
      "Feature(x_94) ----- count(2)\n",
      "Feature(x_96) ----- count(2)\n",
      "Feature(x_97) ----- count(4)\n",
      "Feature(x_98) ----- count(4)\n",
      "Feature(x_99) ----- count(3)\n",
      "Feature(x_100) ----- count(3)\n",
      "Feature(x_101) ----- count(3)\n",
      "Feature(x_102) ----- count(2)\n",
      "Feature(x_103) ----- count(3)\n",
      "Feature(x_104) ----- count(4)\n",
      "Feature(x_105) ----- count(4)\n",
      "Feature(x_106) ----- count(3)\n",
      "Feature(x_107) ----- count(2)\n",
      "Feature(x_108) ----- count(4)\n",
      "Feature(x_109) ----- count(3)\n",
      "Feature(x_110) ----- count(1)\n",
      "Feature(x_111) ----- count(4)\n",
      "Feature(x_112) ----- count(1)\n",
      "Feature(x_113) ----- count(2)\n",
      "Feature(x_114) ----- count(2)\n",
      "Feature(x_115) ----- count(3)\n",
      "Feature(x_116) ----- count(1)\n",
      "Feature(x_117) ----- count(3)\n",
      "Feature(x_118) ----- count(2)\n",
      "Feature(x_119) ----- count(3)\n",
      "Feature(x_120) ----- count(3)\n",
      "Feature(x_121) ----- count(4)\n",
      "Feature(x_122) ----- count(4)\n",
      "Feature(x_123) ----- count(3)\n",
      "Feature(x_124) ----- count(3)\n",
      "Feature(x_125) ----- count(3)\n",
      "Feature(x_126) ----- count(2)\n",
      "Feature(x_127) ----- count(4)\n",
      "Feature(x_128) ----- count(3)\n",
      "Feature(x_129) ----- count(1)\n",
      "Feature(x_130) ----- count(3)\n",
      "Feature(x_131) ----- count(2)\n",
      "Feature(x_132) ----- count(1)\n",
      "Feature(x_133) ----- count(2)\n",
      "Feature(x_134) ----- count(1)\n",
      "Feature(x_135) ----- count(2)\n",
      "Feature(x_136) ----- count(3)\n",
      "Feature(x_137) ----- count(2)\n",
      "Feature(x_138) ----- count(2)\n",
      "Feature(x_139) ----- count(3)\n",
      "Feature(x_140) ----- count(3)\n",
      "Feature(x_141) ----- count(7)\n",
      "Feature(x_142) ----- count(3)\n",
      "Feature(x_143) ----- count(3)\n",
      "Feature(x_144) ----- count(4)\n",
      "Feature(x_145) ----- count(3)\n",
      "Feature(x_146) ----- count(3)\n",
      "Feature(x_147) ----- count(4)\n",
      "Feature(x_148) ----- count(4)\n",
      "Feature(x_149) ----- count(4)\n",
      "Feature(x_150) ----- count(4)\n",
      "Feature(x_151) ----- count(2)\n",
      "Feature(x_152) ----- count(3)\n",
      "Feature(x_153) ----- count(4)\n",
      "Feature(x_154) ----- count(4)\n",
      "Feature(x_155) ----- count(4)\n",
      "Feature(x_156) ----- count(4)\n",
      "Feature(x_157) ----- count(7)\n"
     ]
    }
   ],
   "source": [
    "for feature in train_xy.columns:\n",
    "    uniq_num = len(train_xy[feature].unique())\n",
    "    if uniq_num <= 10: # 看看个数为10以下的\n",
    "        print(\"Feature(%s) ----- count(%d)\" % (feature, uniq_num))"
   ]
  },
  {
   "cell_type": "code",
   "execution_count": 9,
   "metadata": {
    "scrolled": true
   },
   "outputs": [
    {
     "name": "stdout",
     "output_type": "stream",
     "text": [
      "Feature(cust_id) ----- count(15000)\n",
      "Feature(x_1) ----- count(44)\n",
      "Feature(x_2) ----- count(12409)\n",
      "Feature(x_7) ----- count(12)\n",
      "Feature(x_8) ----- count(11)\n",
      "Feature(x_13) ----- count(19)\n",
      "Feature(x_14) ----- count(16)\n",
      "Feature(x_19) ----- count(17)\n",
      "Feature(x_20) ----- count(13)\n",
      "Feature(x_24) ----- count(26)\n",
      "Feature(x_29) ----- count(25)\n",
      "Feature(x_30) ----- count(18)\n",
      "Feature(x_35) ----- count(39)\n",
      "Feature(x_36) ----- count(26)\n",
      "Feature(x_38) ----- count(20)\n",
      "Feature(x_39) ----- count(12)\n",
      "Feature(x_40) ----- count(12)\n",
      "Feature(x_41) ----- count(17)\n",
      "Feature(x_42) ----- count(17)\n",
      "Feature(x_43) ----- count(12)\n",
      "Feature(x_44) ----- count(12)\n",
      "Feature(x_45) ----- count(12)\n",
      "Feature(x_46) ----- count(11)\n",
      "Feature(x_47) ----- count(17)\n",
      "Feature(x_48) ----- count(11)\n",
      "Feature(x_50) ----- count(12)\n",
      "Feature(x_51) ----- count(17)\n",
      "Feature(x_52) ----- count(17)\n",
      "Feature(x_53) ----- count(17)\n",
      "Feature(x_54) ----- count(17)\n",
      "Feature(x_55) ----- count(17)\n",
      "Feature(x_56) ----- count(17)\n",
      "Feature(x_57) ----- count(17)\n",
      "Feature(x_58) ----- count(11)\n",
      "Feature(x_59) ----- count(12)\n",
      "Feature(x_60) ----- count(12)\n",
      "Feature(x_64) ----- count(12)\n",
      "Feature(x_65) ----- count(12)\n",
      "Feature(x_66) ----- count(12)\n",
      "Feature(x_67) ----- count(12)\n",
      "Feature(x_68) ----- count(12)\n",
      "Feature(x_69) ----- count(12)\n",
      "Feature(x_74) ----- count(11)\n",
      "Feature(x_76) ----- count(11)\n",
      "Feature(x_77) ----- count(11)\n",
      "Feature(x_79) ----- count(11)\n",
      "Feature(x_80) ----- count(276)\n",
      "Feature(x_81) ----- count(128)\n",
      "Feature(x_83) ----- count(11)\n",
      "Feature(x_84) ----- count(17)\n",
      "Feature(x_86) ----- count(11)\n",
      "Feature(x_88) ----- count(16)\n",
      "Feature(x_89) ----- count(16)\n",
      "Feature(x_93) ----- count(65)\n",
      "Feature(x_95) ----- count(93)\n"
     ]
    }
   ],
   "source": [
    "for feature in train_xy.columns:\n",
    "    uniq_num = len(train_xy[feature].unique())\n",
    "    if uniq_num > 10: # 看看个数为10以上的\n",
    "        print(\"Feature(%s) ----- count(%d)\" % (feature, uniq_num))"
   ]
  },
  {
   "cell_type": "code",
   "execution_count": 10,
   "metadata": {},
   "outputs": [
    {
     "name": "stdout",
     "output_type": "stream",
     "text": [
      "Feature(y) ----- count(2)\n",
      "Feature(x_6) ----- count(2)\n",
      "Feature(x_12) ----- count(2)\n",
      "Feature(x_18) ----- count(2)\n",
      "Feature(x_23) ----- count(2)\n",
      "Feature(x_28) ----- count(2)\n",
      "Feature(x_34) ----- count(2)\n",
      "Feature(x_92) ----- count(2)\n",
      "Feature(x_94) ----- count(2)\n",
      "Feature(x_96) ----- count(2)\n",
      "Feature(x_102) ----- count(2)\n",
      "Feature(x_107) ----- count(2)\n",
      "Feature(x_113) ----- count(2)\n",
      "Feature(x_114) ----- count(2)\n",
      "Feature(x_118) ----- count(2)\n",
      "Feature(x_126) ----- count(2)\n",
      "Feature(x_131) ----- count(2)\n",
      "Feature(x_133) ----- count(2)\n",
      "Feature(x_135) ----- count(2)\n",
      "Feature(x_137) ----- count(2)\n",
      "Feature(x_138) ----- count(2)\n",
      "Feature(x_151) ----- count(2)\n"
     ]
    }
   ],
   "source": [
    "for feature in train_xy.columns:\n",
    "    uniq_num = len(train_xy[feature].unique())\n",
    "    if uniq_num == 2:  # 只有两个值的特征,可能还包含nan \n",
    "        print(\"Feature(%s) ----- count(%d)\" % (feature, uniq_num))"
   ]
  },
  {
   "cell_type": "code",
   "execution_count": 11,
   "metadata": {},
   "outputs": [
    {
     "name": "stdout",
     "output_type": "stream",
     "text": [
      "Feature(y) ----- count(2)\n",
      "Feature(x_96) ----- count(2)\n"
     ]
    }
   ],
   "source": [
    "for feature in train_xy.columns:\n",
    "    uniq_num = len(train_xy[feature].unique())\n",
    "    nan_num = train_xy.loc[train_xy[feature]==-99,:].shape[0]\n",
    "    if nan_num == 0:\n",
    "        if uniq_num == 2:  # 只有两个值的特征,Feature(x_96) ----- count(2),缺失率 = 0\n",
    "            print(\"Feature(%s) ----- count(%d)\" % (feature, uniq_num))"
   ]
  },
  {
   "cell_type": "code",
   "execution_count": 12,
   "metadata": {},
   "outputs": [],
   "source": [
    "# --------------------------y值的分析--------------------------"
   ]
  },
  {
   "cell_type": "code",
   "execution_count": 13,
   "metadata": {},
   "outputs": [
    {
     "data": {
      "text/plain": [
       "0    14309\n",
       "1      691\n",
       "Name: y, dtype: int64"
      ]
     },
     "execution_count": 13,
     "metadata": {},
     "output_type": "execute_result"
    }
   ],
   "source": [
    "# 看看 预测值\n",
    "train_xy['y'].value_counts()"
   ]
  },
  {
   "cell_type": "code",
   "execution_count": 14,
   "metadata": {},
   "outputs": [
    {
     "data": {
      "text/plain": [
       "20.70767004341534"
      ]
     },
     "execution_count": 14,
     "metadata": {},
     "output_type": "execute_result"
    }
   ],
   "source": [
    "14309.0 / 691 # 样本极其不均衡？？？20.7 : 1"
   ]
  },
  {
   "cell_type": "code",
   "execution_count": 15,
   "metadata": {},
   "outputs": [
    {
     "data": {
      "text/plain": [
       "group_1    5000\n",
       "group_2    5000\n",
       "group_3    5000\n",
       "Name: cust_group, dtype: int64"
      ]
     },
     "execution_count": 15,
     "metadata": {},
     "output_type": "execute_result"
    }
   ],
   "source": [
    "train_xy['cust_group'].value_counts()"
   ]
  },
  {
   "cell_type": "code",
   "execution_count": 16,
   "metadata": {},
   "outputs": [
    {
     "data": {
      "text/plain": [
       "group_3    4000\n",
       "group_2    3000\n",
       "group_1    3000\n",
       "Name: cust_group, dtype: int64"
      ]
     },
     "execution_count": 16,
     "metadata": {},
     "output_type": "execute_result"
    }
   ],
   "source": [
    "test_all['cust_group'].value_counts()"
   ]
  },
  {
   "cell_type": "code",
   "execution_count": 17,
   "metadata": {},
   "outputs": [
    {
     "data": {
      "text/html": [
       "<div>\n",
       "<style scoped>\n",
       "    .dataframe tbody tr th:only-of-type {\n",
       "        vertical-align: middle;\n",
       "    }\n",
       "\n",
       "    .dataframe tbody tr th {\n",
       "        vertical-align: top;\n",
       "    }\n",
       "\n",
       "    .dataframe thead th {\n",
       "        text-align: right;\n",
       "    }\n",
       "</style>\n",
       "<table border=\"1\" class=\"dataframe\">\n",
       "  <thead>\n",
       "    <tr style=\"text-align: right;\">\n",
       "      <th>y</th>\n",
       "      <th>0</th>\n",
       "      <th>1</th>\n",
       "    </tr>\n",
       "    <tr>\n",
       "      <th>cust_group</th>\n",
       "      <th></th>\n",
       "      <th></th>\n",
       "    </tr>\n",
       "  </thead>\n",
       "  <tbody>\n",
       "    <tr>\n",
       "      <th>group_1</th>\n",
       "      <td>4544</td>\n",
       "      <td>456</td>\n",
       "    </tr>\n",
       "    <tr>\n",
       "      <th>group_2</th>\n",
       "      <td>4871</td>\n",
       "      <td>129</td>\n",
       "    </tr>\n",
       "    <tr>\n",
       "      <th>group_3</th>\n",
       "      <td>4894</td>\n",
       "      <td>106</td>\n",
       "    </tr>\n",
       "  </tbody>\n",
       "</table>\n",
       "</div>"
      ],
      "text/plain": [
       "y              0    1\n",
       "cust_group           \n",
       "group_1     4544  456\n",
       "group_2     4871  129\n",
       "group_3     4894  106"
      ]
     },
     "execution_count": 17,
     "metadata": {},
     "output_type": "execute_result"
    }
   ],
   "source": [
    "pd.crosstab(train_xy['cust_group'],train_xy['y']) # 不允许用这个特征：cust_group\n",
    "# 发现group1的 1 类比较多"
   ]
  },
  {
   "cell_type": "markdown",
   "metadata": {},
   "source": [
    "从上面可以发现， 在第一组中的 类别更加均衡一些。  大致是一般的三倍。"
   ]
  },
  {
   "cell_type": "code",
   "execution_count": 21,
   "metadata": {},
   "outputs": [],
   "source": [
    "#展现测试集上不同group的分类情况"
   ]
  },
  {
   "cell_type": "code",
   "execution_count": null,
   "metadata": {
    "collapsed": true
   },
   "outputs": [],
   "source": []
  },
  {
   "cell_type": "code",
   "execution_count": null,
   "metadata": {
    "collapsed": true
   },
   "outputs": [],
   "source": [
    "# ----------------------缺失值处理-------------------------"
   ]
  },
  {
   "cell_type": "code",
   "execution_count": 7,
   "metadata": {},
   "outputs": [
    {
     "name": "stdout",
     "output_type": "stream",
     "text": [
      "feature: x_1 nan_num =  0 nan_rate =  0.0\n",
      "feature: x_2 nan_num =  0 nan_rate =  0.0\n",
      "feature: x_39 nan_num =  128 nan_rate =  0.008533333333333334\n",
      "feature: x_40 nan_num =  128 nan_rate =  0.008533333333333334\n",
      "feature: x_41 nan_num =  128 nan_rate =  0.008533333333333334\n",
      "feature: x_42 nan_num =  128 nan_rate =  0.008533333333333334\n",
      "feature: x_43 nan_num =  128 nan_rate =  0.008533333333333334\n",
      "feature: x_44 nan_num =  128 nan_rate =  0.008533333333333334\n",
      "feature: x_45 nan_num =  128 nan_rate =  0.008533333333333334\n",
      "feature: x_46 nan_num =  128 nan_rate =  0.008533333333333334\n",
      "feature: x_47 nan_num =  128 nan_rate =  0.008533333333333334\n",
      "feature: x_48 nan_num =  149 nan_rate =  0.009933333333333334\n",
      "feature: x_49 nan_num =  128 nan_rate =  0.008533333333333334\n",
      "feature: x_50 nan_num =  128 nan_rate =  0.008533333333333334\n",
      "feature: x_51 nan_num =  128 nan_rate =  0.008533333333333334\n",
      "feature: x_52 nan_num =  128 nan_rate =  0.008533333333333334\n",
      "feature: x_53 nan_num =  128 nan_rate =  0.008533333333333334\n",
      "feature: x_54 nan_num =  128 nan_rate =  0.008533333333333334\n",
      "feature: x_55 nan_num =  128 nan_rate =  0.008533333333333334\n",
      "feature: x_56 nan_num =  128 nan_rate =  0.008533333333333334\n",
      "feature: x_57 nan_num =  128 nan_rate =  0.008533333333333334\n",
      "feature: x_58 nan_num =  149 nan_rate =  0.009933333333333334\n",
      "feature: x_59 nan_num =  128 nan_rate =  0.008533333333333334\n",
      "feature: x_60 nan_num =  128 nan_rate =  0.008533333333333334\n",
      "feature: x_61 nan_num =  128 nan_rate =  0.008533333333333334\n",
      "feature: x_62 nan_num =  128 nan_rate =  0.008533333333333334\n",
      "feature: x_63 nan_num =  128 nan_rate =  0.008533333333333334\n",
      "feature: x_64 nan_num =  128 nan_rate =  0.008533333333333334\n",
      "feature: x_65 nan_num =  128 nan_rate =  0.008533333333333334\n",
      "feature: x_66 nan_num =  128 nan_rate =  0.008533333333333334\n",
      "feature: x_67 nan_num =  128 nan_rate =  0.008533333333333334\n",
      "feature: x_68 nan_num =  128 nan_rate =  0.008533333333333334\n",
      "feature: x_69 nan_num =  128 nan_rate =  0.008533333333333334\n",
      "feature: x_70 nan_num =  128 nan_rate =  0.008533333333333334\n",
      "feature: x_71 nan_num =  128 nan_rate =  0.008533333333333334\n",
      "feature: x_72 nan_num =  128 nan_rate =  0.008533333333333334\n",
      "feature: x_73 nan_num =  128 nan_rate =  0.008533333333333334\n",
      "feature: x_74 nan_num =  128 nan_rate =  0.008533333333333334\n",
      "feature: x_75 nan_num =  128 nan_rate =  0.008533333333333334\n",
      "feature: x_76 nan_num =  128 nan_rate =  0.008533333333333334\n",
      "feature: x_77 nan_num =  128 nan_rate =  0.008533333333333334\n",
      "feature: x_78 nan_num =  149 nan_rate =  0.009933333333333334\n",
      "feature: x_79 nan_num =  128 nan_rate =  0.008533333333333334\n",
      "feature: x_80 nan_num =  0 nan_rate =  0.0\n",
      "feature: x_81 nan_num =  146 nan_rate =  0.009733333333333333\n",
      "feature: x_82 nan_num =  46 nan_rate =  0.0030666666666666668\n",
      "feature: x_83 nan_num =  46 nan_rate =  0.0030666666666666668\n",
      "feature: x_84 nan_num =  46 nan_rate =  0.0030666666666666668\n",
      "feature: x_85 nan_num =  46 nan_rate =  0.0030666666666666668\n",
      "feature: x_86 nan_num =  46 nan_rate =  0.0030666666666666668\n",
      "feature: x_87 nan_num =  46 nan_rate =  0.0030666666666666668\n",
      "feature: x_88 nan_num =  46 nan_rate =  0.0030666666666666668\n",
      "feature: x_89 nan_num =  46 nan_rate =  0.0030666666666666668\n",
      "feature: x_90 nan_num =  77 nan_rate =  0.0051333333333333335\n",
      "feature: x_91 nan_num =  677 nan_rate =  0.04513333333333333\n",
      "feature: x_96 nan_num =  0 nan_rate =  0.0\n",
      "feature: x_97 nan_num =  149 nan_rate =  0.009933333333333334\n",
      "feature: x_98 nan_num =  149 nan_rate =  0.009933333333333334\n",
      "feature: x_99 nan_num =  149 nan_rate =  0.009933333333333334\n",
      "feature: x_100 nan_num =  149 nan_rate =  0.009933333333333334\n",
      "feature: x_101 nan_num =  149 nan_rate =  0.009933333333333334\n",
      "feature: x_139 nan_num =  5 nan_rate =  0.0003333333333333333\n",
      "feature: x_143 nan_num =  46 nan_rate =  0.0030666666666666668\n",
      "feature: x_144 nan_num =  46 nan_rate =  0.0030666666666666668\n",
      "feature: x_145 nan_num =  46 nan_rate =  0.0030666666666666668\n",
      "feature: x_146 nan_num =  46 nan_rate =  0.0030666666666666668\n",
      "feature: x_147 nan_num =  46 nan_rate =  0.0030666666666666668\n",
      "feature: x_148 nan_num =  46 nan_rate =  0.0030666666666666668\n",
      "feature: x_149 nan_num =  46 nan_rate =  0.0030666666666666668\n",
      "feature: x_150 nan_num =  46 nan_rate =  0.0030666666666666668\n",
      "feature: x_151 nan_num =  46 nan_rate =  0.0030666666666666668\n",
      "feature: x_152 nan_num =  46 nan_rate =  0.0030666666666666668\n",
      "feature: x_153 nan_num =  475 nan_rate =  0.03166666666666667\n",
      "feature: x_154 nan_num =  77 nan_rate =  0.0051333333333333335\n",
      "feature: x_155 nan_num =  77 nan_rate =  0.0051333333333333335\n",
      "feature: x_156 nan_num =  894 nan_rate =  0.0596\n",
      "一共有 76 个特征列的缺失值较少，低于0.100000 \n"
     ]
    }
   ],
   "source": [
    "# 看一下缺失值的比例\n",
    "# 缺失很少的，要不要进行填充呢？？？？？\n",
    "def get_nan_rate(df,rate = 0.1):\n",
    "    total_num = df.shape[0]\n",
    "    df_nan_feats = []\n",
    "    for i in range(157):\n",
    "        feat = 'x_' + str(i+1)\n",
    "        nan_num = df.loc[df[feat]==-99,:].shape[0]\n",
    "        nan_rate = nan_num / float(total_num) \n",
    "        if nan_rate <= rate:\n",
    "            df_nan_feats.append(feat)\n",
    "            print(\"feature:\",feat,\"nan_num = \",nan_num,\"nan_rate = \",nan_rate)\n",
    "    print(\"一共有 %d 个特征列的缺失值较少，低于%f \"%(len(df_nan_feats),rate))\n",
    "    return df_nan_feats\n",
    "train_little_nan_feats = get_nan_rate(train.copy())"
   ]
  },
  {
   "cell_type": "code",
   "execution_count": 32,
   "metadata": {},
   "outputs": [
    {
     "name": "stdout",
     "output_type": "stream",
     "text": [
      "feature: x_92 nan_num =  14979 nan_rate =  0.9986\n",
      "feature: x_94 nan_num =  14979 nan_rate =  0.9986\n",
      "feature: x_102 nan_num =  14999 nan_rate =  0.9999333333333333\n",
      "feature: x_103 nan_num =  14996 nan_rate =  0.9997333333333334\n",
      "feature: x_104 nan_num =  14989 nan_rate =  0.9992666666666666\n",
      "feature: x_105 nan_num =  14971 nan_rate =  0.9980666666666667\n",
      "feature: x_106 nan_num =  14989 nan_rate =  0.9992666666666666\n",
      "feature: x_107 nan_num =  14998 nan_rate =  0.9998666666666667\n",
      "feature: x_108 nan_num =  14995 nan_rate =  0.9996666666666667\n",
      "feature: x_109 nan_num =  14996 nan_rate =  0.9997333333333334\n",
      "feature: x_110 nan_num =  15000 nan_rate =  1.0\n",
      "feature: x_111 nan_num =  14995 nan_rate =  0.9996666666666667\n",
      "feature: x_112 nan_num =  15000 nan_rate =  1.0\n",
      "feature: x_113 nan_num =  14999 nan_rate =  0.9999333333333333\n",
      "feature: x_114 nan_num =  14999 nan_rate =  0.9999333333333333\n",
      "feature: x_115 nan_num =  14997 nan_rate =  0.9998\n",
      "feature: x_116 nan_num =  15000 nan_rate =  1.0\n",
      "feature: x_117 nan_num =  14996 nan_rate =  0.9997333333333334\n",
      "feature: x_118 nan_num =  14999 nan_rate =  0.9999333333333333\n",
      "feature: x_119 nan_num =  14997 nan_rate =  0.9998\n",
      "feature: x_120 nan_num =  14987 nan_rate =  0.9991333333333333\n",
      "feature: x_121 nan_num =  14977 nan_rate =  0.9984666666666666\n",
      "feature: x_122 nan_num =  14980 nan_rate =  0.9986666666666667\n",
      "feature: x_123 nan_num =  14998 nan_rate =  0.9998666666666667\n",
      "feature: x_124 nan_num =  14990 nan_rate =  0.9993333333333333\n",
      "feature: x_125 nan_num =  14998 nan_rate =  0.9998666666666667\n",
      "feature: x_126 nan_num =  14999 nan_rate =  0.9999333333333333\n",
      "feature: x_127 nan_num =  14996 nan_rate =  0.9997333333333334\n",
      "feature: x_128 nan_num =  14997 nan_rate =  0.9998\n",
      "feature: x_129 nan_num =  15000 nan_rate =  1.0\n",
      "feature: x_130 nan_num =  14997 nan_rate =  0.9998\n",
      "feature: x_131 nan_num =  14999 nan_rate =  0.9999333333333333\n",
      "feature: x_132 nan_num =  15000 nan_rate =  1.0\n",
      "feature: x_133 nan_num =  14999 nan_rate =  0.9999333333333333\n",
      "feature: x_134 nan_num =  15000 nan_rate =  1.0\n",
      "feature: x_135 nan_num =  14999 nan_rate =  0.9999333333333333\n",
      "feature: x_136 nan_num =  14993 nan_rate =  0.9995333333333334\n",
      "feature: x_137 nan_num =  14999 nan_rate =  0.9999333333333333\n",
      "feature: x_138 nan_num =  14999 nan_rate =  0.9999333333333333\n",
      "一共有 39 个特征列的缺失值严重，超过0.950000 \n"
     ]
    }
   ],
   "source": [
    "\n",
    "# 每一列 ，按照属性来看\n",
    "def get_most_nan_feat(df,rate = 0.95):\n",
    "    total_num = df.shape[0]\n",
    "    df_nan_feats = []\n",
    "    for i in range(157):\n",
    "        feat = 'x_' + str(i+1)\n",
    "        nan_num = df.loc[df[feat]==-99,:].shape[0]\n",
    "        nan_rate = nan_num / float(total_num) \n",
    "        if nan_rate >= rate:\n",
    "            df_nan_feats.append(feat)\n",
    "            print(\"feature:\",feat,\"nan_num = \",nan_num,\"nan_rate = \",nan_rate)\n",
    "    print(\"一共有 %d 个特征列的缺失值严重，超过%f \"%(len(df_nan_feats),rate))\n",
    "    return df_nan_feats\n",
    "train_most_nan_feats = get_most_nan_feat(train.copy())\n",
    "# x96-x157是类别型变量,可以看出，大部分都是类别信息缺失严重\n",
    "# 157-96+1=62个，有37个缺失，只剩 62 -37 = 25\n",
    "# 数值型的只有两个缺失严重。x_92，x_94，刚好他的重要性 = 0"
   ]
  },
  {
   "cell_type": "code",
   "execution_count": 33,
   "metadata": {},
   "outputs": [
    {
     "name": "stdout",
     "output_type": "stream",
     "text": [
      "全部都是nan的特征列\n",
      "feature: x_110 nan_num =  15000 nan_rate =  1.0\n",
      "feature: x_112 nan_num =  15000 nan_rate =  1.0\n",
      "feature: x_116 nan_num =  15000 nan_rate =  1.0\n",
      "feature: x_129 nan_num =  15000 nan_rate =  1.0\n",
      "feature: x_132 nan_num =  15000 nan_rate =  1.0\n",
      "feature: x_134 nan_num =  15000 nan_rate =  1.0\n",
      "一共有 6 个特征列的缺失值严重，超过1.000000 \n"
     ]
    }
   ],
   "source": [
    "print(\"全部都是nan的特征列\")\n",
    "train_all_nan_feats = get_most_nan_feat(train.copy(),1.0)"
   ]
  },
  {
   "cell_type": "code",
   "execution_count": 34,
   "metadata": {},
   "outputs": [
    {
     "name": "stdout",
     "output_type": "stream",
     "text": [
      "nan + 一个别的value的特征\n",
      "feature: x_6 nan_num =  7689 nan_rate =  0.5126\n",
      "feature: x_12 nan_num =  7345 nan_rate =  0.48966666666666664\n",
      "feature: x_18 nan_num =  7689 nan_rate =  0.5126\n",
      "feature: x_23 nan_num =  7345 nan_rate =  0.48966666666666664\n",
      "feature: x_28 nan_num =  7689 nan_rate =  0.5126\n",
      "feature: x_34 nan_num =  7345 nan_rate =  0.48966666666666664\n",
      "feature: x_92 nan_num =  14979 nan_rate =  0.9986\n",
      "feature: x_94 nan_num =  14979 nan_rate =  0.9986\n",
      "feature: x_102 nan_num =  14999 nan_rate =  0.9999333333333333\n",
      "feature: x_107 nan_num =  14998 nan_rate =  0.9998666666666667\n",
      "feature: x_113 nan_num =  14999 nan_rate =  0.9999333333333333\n",
      "feature: x_114 nan_num =  14999 nan_rate =  0.9999333333333333\n",
      "feature: x_118 nan_num =  14999 nan_rate =  0.9999333333333333\n",
      "feature: x_126 nan_num =  14999 nan_rate =  0.9999333333333333\n",
      "feature: x_131 nan_num =  14999 nan_rate =  0.9999333333333333\n",
      "feature: x_133 nan_num =  14999 nan_rate =  0.9999333333333333\n",
      "feature: x_135 nan_num =  14999 nan_rate =  0.9999333333333333\n",
      "feature: x_137 nan_num =  14999 nan_rate =  0.9999333333333333\n",
      "feature: x_138 nan_num =  14999 nan_rate =  0.9999333333333333\n",
      "feature: x_151 nan_num =  46 nan_rate =  0.0030666666666666668\n",
      "一共有 20 个特征列的只有nan+其他值。 \n"
     ]
    }
   ],
   "source": [
    "print(\"nan + 一个别的value的特征\")\n",
    "def get_nan_other_feature(train,rate = 0):\n",
    "    total_num = train.shape[0]\n",
    "    train_nan_feats = []\n",
    "    for i in range(157):\n",
    "        feat = 'x_' + str(i+1)\n",
    "        nan_num = train.loc[train[feat]==-99,:].shape[0]\n",
    "        nan_rate = nan_num / float(total_num) \n",
    "        if nan_rate > rate:                    # 有缺失值 nan\n",
    "            if len(train[feat].unique()) == 2: # 只有nan + 一个其他值\n",
    "                print(\"feature:\",feat,\"nan_num = \",nan_num,\"nan_rate = \",nan_rate)\n",
    "                train_nan_feats.append(feat)\n",
    "\n",
    "    print(\"一共有 %d 个特征列的只有nan+其他值。 \"%(len(train_nan_feats)))\n",
    "    return train_nan_feats\n",
    "train_nan_other_feats = get_nan_other_feature(train.copy(),0)\n",
    "# 数值型：x_6 ，x_12 ， x_18 ，x_23 ， x_28 ，x_34  ，x_92 ，x_94 "
   ]
  },
  {
   "cell_type": "code",
   "execution_count": 35,
   "metadata": {},
   "outputs": [
    {
     "name": "stdout",
     "output_type": "stream",
     "text": [
      "********** x_10 *********\n",
      "-99    7345\n",
      " 0     6141\n",
      " 1     1198\n",
      " 2      249\n",
      " 3       58\n",
      " 4        5\n",
      " 5        3\n",
      " 6        1\n",
      "Name: x_10, dtype: int64\n",
      "********** x_11 *********\n",
      "-99    7345\n",
      " 0     6141\n",
      " 1     1306\n",
      " 2      180\n",
      " 3       26\n",
      " 4        2\n",
      "Name: x_11, dtype: int64\n",
      "********** x_15 *********\n",
      "-99    7689\n",
      " 0     7207\n",
      " 1       95\n",
      " 2        5\n",
      " 3        2\n",
      " 4        1\n",
      " 8        1\n",
      "Name: x_15, dtype: int64\n",
      "********** x_17 *********\n",
      "-99    7689\n",
      " 0     5519\n",
      " 1     1564\n",
      " 2      201\n",
      " 3       26\n",
      " 4        1\n",
      "Name: x_17, dtype: int64\n",
      "********** x_21 *********\n",
      " 0     7542\n",
      "-99    7345\n",
      " 1      102\n",
      " 2        6\n",
      " 4        2\n",
      " 6        1\n",
      " 5        1\n",
      " 3        1\n",
      "Name: x_21, dtype: int64\n",
      "********** x_25 *********\n",
      "-99    7689\n",
      " 0     7207\n",
      " 1       95\n",
      " 2        5\n",
      " 3        2\n",
      " 4        1\n",
      " 8        1\n",
      "Name: x_25, dtype: int64\n",
      "********** x_31 *********\n",
      " 0     7542\n",
      "-99    7345\n",
      " 1      102\n",
      " 2        6\n",
      " 4        2\n",
      " 6        1\n",
      " 5        1\n",
      " 3        1\n",
      "Name: x_31, dtype: int64\n",
      "********** x_37 *********\n",
      "-99    7345\n",
      " 0     5459\n",
      " 1     1802\n",
      " 2      329\n",
      " 3       53\n",
      " 4       12\n",
      "Name: x_37, dtype: int64\n",
      "********** x_70 *********\n",
      " 1     14810\n",
      "-99      128\n",
      " 2        33\n",
      " 0        21\n",
      " 5         3\n",
      " 6         2\n",
      " 4         2\n",
      " 9         1\n",
      "Name: x_70, dtype: int64\n",
      "********** x_71 *********\n",
      " 1     14810\n",
      "-99      128\n",
      " 0        21\n",
      " 2        18\n",
      " 3        17\n",
      " 5         2\n",
      " 4         2\n",
      " 7         1\n",
      " 6         1\n",
      "Name: x_71, dtype: int64\n",
      "********** x_74 *********\n",
      " 1     14736\n",
      "-99      128\n",
      " 2        82\n",
      " 0        21\n",
      " 3        15\n",
      " 4         8\n",
      " 5         4\n",
      " 6         3\n",
      " 7         1\n",
      " 10        1\n",
      " 9         1\n",
      "Name: x_74, dtype: int64\n",
      "********** x_89 *********\n",
      " 1     14756\n",
      "-99       46\n",
      " 2        39\n",
      " 8        37\n",
      " 10       32\n",
      " 9        32\n",
      " 11       15\n",
      " 6        10\n",
      " 7         9\n",
      " 14        5\n",
      " 13        5\n",
      " 12        5\n",
      " 5         4\n",
      " 15        3\n",
      " 4         1\n",
      " 17        1\n",
      "Name: x_89, dtype: int64\n"
     ]
    }
   ],
   "source": [
    "other = ['x_10', 'x_11','x_15', 'x_17', 'x_21', 'x_25', 'x_31', 'x_37', 'x_70', 'x_71', 'x_74', 'x_89']\n",
    "for i in other:\n",
    "    print(\"********** \"+i+\" *********\")\n",
    "    print(train_xy[i].value_counts())\n",
    "    "
   ]
  },
  {
   "cell_type": "code",
   "execution_count": null,
   "metadata": {
    "collapsed": true
   },
   "outputs": [],
   "source": []
  },
  {
   "cell_type": "code",
   "execution_count": null,
   "metadata": {
    "collapsed": true
   },
   "outputs": [],
   "source": [
    "# ----------------------------------每个样本缺失值的个数统计--------------------------------------------"
   ]
  },
  {
   "cell_type": "code",
   "execution_count": 12,
   "metadata": {},
   "outputs": [
    {
     "data": {
      "text/plain": [
       "(15000, 160)"
      ]
     },
     "execution_count": 12,
     "metadata": {},
     "output_type": "execute_result"
    }
   ],
   "source": [
    "a = train.replace(-99,np.nan).copy()\n",
    "a.shape"
   ]
  },
  {
   "cell_type": "code",
   "execution_count": 13,
   "metadata": {},
   "outputs": [
    {
     "data": {
      "text/html": [
       "<div>\n",
       "<style>\n",
       "    .dataframe thead tr:only-child th {\n",
       "        text-align: right;\n",
       "    }\n",
       "\n",
       "    .dataframe thead th {\n",
       "        text-align: left;\n",
       "    }\n",
       "\n",
       "    .dataframe tbody tr th {\n",
       "        vertical-align: top;\n",
       "    }\n",
       "</style>\n",
       "<table border=\"1\" class=\"dataframe\">\n",
       "  <thead>\n",
       "    <tr style=\"text-align: right;\">\n",
       "      <th></th>\n",
       "      <th>cust_id</th>\n",
       "      <th>cust_group</th>\n",
       "      <th>y</th>\n",
       "      <th>x_1</th>\n",
       "      <th>x_2</th>\n",
       "      <th>x_3</th>\n",
       "      <th>x_4</th>\n",
       "      <th>x_5</th>\n",
       "      <th>x_6</th>\n",
       "      <th>x_7</th>\n",
       "      <th>...</th>\n",
       "      <th>x_149</th>\n",
       "      <th>x_150</th>\n",
       "      <th>x_151</th>\n",
       "      <th>x_152</th>\n",
       "      <th>x_153</th>\n",
       "      <th>x_154</th>\n",
       "      <th>x_155</th>\n",
       "      <th>x_156</th>\n",
       "      <th>x_157</th>\n",
       "      <th>nan_num</th>\n",
       "    </tr>\n",
       "  </thead>\n",
       "  <tbody>\n",
       "    <tr>\n",
       "      <th>0</th>\n",
       "      <td>110000</td>\n",
       "      <td>group_3</td>\n",
       "      <td>0</td>\n",
       "      <td>0.354167</td>\n",
       "      <td>0.604988</td>\n",
       "      <td>NaN</td>\n",
       "      <td>NaN</td>\n",
       "      <td>NaN</td>\n",
       "      <td>NaN</td>\n",
       "      <td>NaN</td>\n",
       "      <td>...</td>\n",
       "      <td>1.0</td>\n",
       "      <td>1.0</td>\n",
       "      <td>1.0</td>\n",
       "      <td>1.0</td>\n",
       "      <td>1.0</td>\n",
       "      <td>1.0</td>\n",
       "      <td>1.0</td>\n",
       "      <td>3.0</td>\n",
       "      <td>NaN</td>\n",
       "      <td>76</td>\n",
       "    </tr>\n",
       "    <tr>\n",
       "      <th>1</th>\n",
       "      <td>110001</td>\n",
       "      <td>group_3</td>\n",
       "      <td>0</td>\n",
       "      <td>0.125000</td>\n",
       "      <td>0.012058</td>\n",
       "      <td>NaN</td>\n",
       "      <td>NaN</td>\n",
       "      <td>NaN</td>\n",
       "      <td>NaN</td>\n",
       "      <td>NaN</td>\n",
       "      <td>...</td>\n",
       "      <td>1.0</td>\n",
       "      <td>1.0</td>\n",
       "      <td>1.0</td>\n",
       "      <td>1.0</td>\n",
       "      <td>1.0</td>\n",
       "      <td>1.0</td>\n",
       "      <td>1.0</td>\n",
       "      <td>2.0</td>\n",
       "      <td>2.0</td>\n",
       "      <td>75</td>\n",
       "    </tr>\n",
       "    <tr>\n",
       "      <th>2</th>\n",
       "      <td>110002</td>\n",
       "      <td>group_3</td>\n",
       "      <td>0</td>\n",
       "      <td>0.333333</td>\n",
       "      <td>0.565979</td>\n",
       "      <td>0.0</td>\n",
       "      <td>0.0</td>\n",
       "      <td>0.0</td>\n",
       "      <td>0.0</td>\n",
       "      <td>0.0</td>\n",
       "      <td>...</td>\n",
       "      <td>1.0</td>\n",
       "      <td>2.0</td>\n",
       "      <td>1.0</td>\n",
       "      <td>1.0</td>\n",
       "      <td>1.0</td>\n",
       "      <td>1.0</td>\n",
       "      <td>1.0</td>\n",
       "      <td>2.0</td>\n",
       "      <td>2.0</td>\n",
       "      <td>40</td>\n",
       "    </tr>\n",
       "    <tr>\n",
       "      <th>3</th>\n",
       "      <td>110003</td>\n",
       "      <td>group_3</td>\n",
       "      <td>0</td>\n",
       "      <td>0.208333</td>\n",
       "      <td>0.316209</td>\n",
       "      <td>0.0</td>\n",
       "      <td>0.0</td>\n",
       "      <td>0.0</td>\n",
       "      <td>0.0</td>\n",
       "      <td>1.0</td>\n",
       "      <td>...</td>\n",
       "      <td>1.0</td>\n",
       "      <td>1.0</td>\n",
       "      <td>1.0</td>\n",
       "      <td>1.0</td>\n",
       "      <td>1.0</td>\n",
       "      <td>1.0</td>\n",
       "      <td>1.0</td>\n",
       "      <td>2.0</td>\n",
       "      <td>4.0</td>\n",
       "      <td>39</td>\n",
       "    </tr>\n",
       "    <tr>\n",
       "      <th>4</th>\n",
       "      <td>110004</td>\n",
       "      <td>group_3</td>\n",
       "      <td>0</td>\n",
       "      <td>0.208333</td>\n",
       "      <td>0.008061</td>\n",
       "      <td>NaN</td>\n",
       "      <td>NaN</td>\n",
       "      <td>NaN</td>\n",
       "      <td>NaN</td>\n",
       "      <td>NaN</td>\n",
       "      <td>...</td>\n",
       "      <td>1.0</td>\n",
       "      <td>1.0</td>\n",
       "      <td>1.0</td>\n",
       "      <td>1.0</td>\n",
       "      <td>1.0</td>\n",
       "      <td>1.0</td>\n",
       "      <td>1.0</td>\n",
       "      <td>2.0</td>\n",
       "      <td>1.0</td>\n",
       "      <td>57</td>\n",
       "    </tr>\n",
       "  </tbody>\n",
       "</table>\n",
       "<p>5 rows × 161 columns</p>\n",
       "</div>"
      ],
      "text/plain": [
       "   cust_id cust_group  y       x_1       x_2  x_3  x_4  x_5  x_6  x_7  \\\n",
       "0   110000    group_3  0  0.354167  0.604988  NaN  NaN  NaN  NaN  NaN   \n",
       "1   110001    group_3  0  0.125000  0.012058  NaN  NaN  NaN  NaN  NaN   \n",
       "2   110002    group_3  0  0.333333  0.565979  0.0  0.0  0.0  0.0  0.0   \n",
       "3   110003    group_3  0  0.208333  0.316209  0.0  0.0  0.0  0.0  1.0   \n",
       "4   110004    group_3  0  0.208333  0.008061  NaN  NaN  NaN  NaN  NaN   \n",
       "\n",
       "    ...     x_149  x_150  x_151  x_152  x_153  x_154  x_155  x_156  x_157  \\\n",
       "0   ...       1.0    1.0    1.0    1.0    1.0    1.0    1.0    3.0    NaN   \n",
       "1   ...       1.0    1.0    1.0    1.0    1.0    1.0    1.0    2.0    2.0   \n",
       "2   ...       1.0    2.0    1.0    1.0    1.0    1.0    1.0    2.0    2.0   \n",
       "3   ...       1.0    1.0    1.0    1.0    1.0    1.0    1.0    2.0    4.0   \n",
       "4   ...       1.0    1.0    1.0    1.0    1.0    1.0    1.0    2.0    1.0   \n",
       "\n",
       "   nan_num  \n",
       "0       76  \n",
       "1       75  \n",
       "2       40  \n",
       "3       39  \n",
       "4       57  \n",
       "\n",
       "[5 rows x 161 columns]"
      ]
     },
     "execution_count": 13,
     "metadata": {},
     "output_type": "execute_result"
    }
   ],
   "source": [
    "a[\"nan_num\"] = a.shape[1] - a.count(axis = 1).values # 列数 - 非nan的数量\n",
    "a.head()"
   ]
  },
  {
   "cell_type": "code",
   "execution_count": 14,
   "metadata": {},
   "outputs": [
    {
     "data": {
      "text/plain": [
       "<matplotlib.collections.PathCollection at 0x7f054fd756d8>"
      ]
     },
     "execution_count": 14,
     "metadata": {},
     "output_type": "execute_result"
    },
    {
     "data": {
      "image/png": "[encoded data removed]",
      "text/plain": [
       "<matplotlib.figure.Figure at 0x7f057c1a09b0>"
      ]
     },
     "metadata": {},
     "output_type": "display_data"
    }
   ],
   "source": [
    "plt.scatter(a.index.values,a['nan_num'])  # group3:1-5000， group1:5001-10000, group2: 10001-15000\n",
    "# 可以看出，group3的用户缺失较为严重一些"
   ]
  },
  {
   "cell_type": "code",
   "execution_count": 21,
   "metadata": {},
   "outputs": [
    {
     "data": {
      "text/plain": [
       "[<matplotlib.lines.Line2D at 0x7f054b6ae390>]"
      ]
     },
     "execution_count": 21,
     "metadata": {},
     "output_type": "execute_result"
    },
    {
     "data": {
      "image/png": "[encoded data removed]",
      "text/plain": [
       "<matplotlib.figure.Figure at 0x7f054fc01f60>"
      ]
     },
     "metadata": {},
     "output_type": "display_data"
    }
   ],
   "source": [
    "# 统计一下负样本的累计和\n",
    "aa = a.sort_values(by = 'nan_num')\n",
    "aa['y'] = aa['y'].map({0:1,1:0})\n",
    "plt.plot(range(15000),range(15000),color = 'black') # 直线\n",
    "\n",
    "plt.plot(range(15000),aa['y'].cumsum(),color = 'blue') # 负样本的累计和：14309（0：低风险， 1：高风险）"
   ]
  },
  {
   "cell_type": "code",
   "execution_count": 23,
   "metadata": {},
   "outputs": [
    {
     "data": {
      "text/plain": [
       "<matplotlib.collections.PathCollection at 0x7f054b5fd668>"
      ]
     },
     "execution_count": 23,
     "metadata": {},
     "output_type": "execute_result"
    },
    {
     "data": {
      "image/png": "[encoded data removed]",
      "text/plain": [
       "<matplotlib.figure.Figure at 0x7f054fc40d30>"
      ]
     },
     "metadata": {},
     "output_type": "display_data"
    }
   ],
   "source": [
    "# 排个序看看\n",
    "plt.scatter(range(15000),a['nan_num'].sort_values().values)\n",
    "plt.scatter(range(15000),a['nan_num'].sort_values().values)"
   ]
  },
  {
   "cell_type": "code",
   "execution_count": 24,
   "metadata": {},
   "outputs": [
    {
     "data": {
      "text/plain": [
       "<matplotlib.collections.PathCollection at 0x7f054b5c9940>"
      ]
     },
     "execution_count": 24,
     "metadata": {},
     "output_type": "execute_result"
    },
    {
     "data": {
      "image/png": "[encoded data removed]",
      "text/plain": [
       "<matplotlib.figure.Figure at 0x7f05549c8ba8>"
      ]
     },
     "metadata": {},
     "output_type": "display_data"
    }
   ],
   "source": [
    "# 看看test集合的\n",
    "b = test.replace(-99,np.nan).copy()\n",
    "b[\"nan_num\"] = b.shape[1] - b.count(axis = 1).values # 列数 - 非nan的数量\n",
    "plt.scatter(range(10000),b['nan_num'].sort_values().values)"
   ]
  },
  {
   "cell_type": "code",
   "execution_count": 25,
   "metadata": {},
   "outputs": [
    {
     "data": {
      "text/plain": [
       "<matplotlib.collections.PathCollection at 0x7f054fab3d68>"
      ]
     },
     "execution_count": 25,
     "metadata": {},
     "output_type": "execute_result"
    },
    {
     "data": {
      "image/png": "[encoded data removed]",
      "text/plain": [
       "<matplotlib.figure.Figure at 0x7f054b5d3240>"
      ]
     },
     "metadata": {},
     "output_type": "display_data"
    }
   ],
   "source": [
    "# 看看test集合的\n",
    "c = train_x.replace(-99,np.nan).copy()\n",
    "c[\"nan_num\"] = c.shape[1] - c.count(axis = 1).values # 列数 - 非nan的数量\n",
    "plt.scatter(range(10000),c['nan_num'].sort_values().values)"
   ]
  },
  {
   "cell_type": "code",
   "execution_count": 26,
   "metadata": {},
   "outputs": [
    {
     "data": {
      "text/html": [
       "<div>\n",
       "<style>\n",
       "    .dataframe thead tr:only-child th {\n",
       "        text-align: right;\n",
       "    }\n",
       "\n",
       "    .dataframe thead th {\n",
       "        text-align: left;\n",
       "    }\n",
       "\n",
       "    .dataframe tbody tr th {\n",
       "        vertical-align: top;\n",
       "    }\n",
       "</style>\n",
       "<table border=\"1\" class=\"dataframe\">\n",
       "  <thead>\n",
       "    <tr style=\"text-align: right;\">\n",
       "      <th></th>\n",
       "      <th>a</th>\n",
       "      <th>b</th>\n",
       "      <th>c</th>\n",
       "    </tr>\n",
       "  </thead>\n",
       "  <tbody>\n",
       "    <tr>\n",
       "      <th>count</th>\n",
       "      <td>15000.000000</td>\n",
       "      <td>10000.000000</td>\n",
       "      <td>10000.000000</td>\n",
       "    </tr>\n",
       "    <tr>\n",
       "      <th>mean</th>\n",
       "      <td>60.892667</td>\n",
       "      <td>57.901700</td>\n",
       "      <td>60.117300</td>\n",
       "    </tr>\n",
       "    <tr>\n",
       "      <th>std</th>\n",
       "      <td>18.157714</td>\n",
       "      <td>17.938975</td>\n",
       "      <td>19.292023</td>\n",
       "    </tr>\n",
       "    <tr>\n",
       "      <th>min</th>\n",
       "      <td>36.000000</td>\n",
       "      <td>36.000000</td>\n",
       "      <td>34.000000</td>\n",
       "    </tr>\n",
       "    <tr>\n",
       "      <th>25%</th>\n",
       "      <td>43.000000</td>\n",
       "      <td>42.000000</td>\n",
       "      <td>43.000000</td>\n",
       "    </tr>\n",
       "    <tr>\n",
       "      <th>50%</th>\n",
       "      <td>61.000000</td>\n",
       "      <td>43.000000</td>\n",
       "      <td>48.500000</td>\n",
       "    </tr>\n",
       "    <tr>\n",
       "      <th>75%</th>\n",
       "      <td>79.000000</td>\n",
       "      <td>78.000000</td>\n",
       "      <td>79.000000</td>\n",
       "    </tr>\n",
       "    <tr>\n",
       "      <th>max</th>\n",
       "      <td>141.000000</td>\n",
       "      <td>126.000000</td>\n",
       "      <td>141.000000</td>\n",
       "    </tr>\n",
       "  </tbody>\n",
       "</table>\n",
       "</div>"
      ],
      "text/plain": [
       "                  a             b             c\n",
       "count  15000.000000  10000.000000  10000.000000\n",
       "mean      60.892667     57.901700     60.117300\n",
       "std       18.157714     17.938975     19.292023\n",
       "min       36.000000     36.000000     34.000000\n",
       "25%       43.000000     42.000000     43.000000\n",
       "50%       61.000000     43.000000     48.500000\n",
       "75%       79.000000     78.000000     79.000000\n",
       "max      141.000000    126.000000    141.000000"
      ]
     },
     "execution_count": 26,
     "metadata": {},
     "output_type": "execute_result"
    }
   ],
   "source": [
    "abc = pd.DataFrame()\n",
    "abc['a'] = a[\"nan_num\"] # train_xy\n",
    "abc['b'] = b[\"nan_num\"] # test\n",
    "abc['c'] = c[\"nan_num\"] # train_x\n",
    "abc.describe() # a和c 的分布很接近哦"
   ]
  },
  {
   "cell_type": "code",
   "execution_count": 30,
   "metadata": {},
   "outputs": [
    {
     "data": {
      "text/plain": [
       "(28, 1)"
      ]
     },
     "execution_count": 30,
     "metadata": {},
     "output_type": "execute_result"
    }
   ],
   "source": [
    "b.loc[b[\"nan_num\"]>120,[\"nan_num\"]].shape # 大于120的有28个，最大值126（test set）"
   ]
  },
  {
   "cell_type": "code",
   "execution_count": 35,
   "metadata": {},
   "outputs": [
    {
     "data": {
      "text/plain": [
       "(94, 1)"
      ]
     },
     "execution_count": 35,
     "metadata": {},
     "output_type": "execute_result"
    }
   ],
   "source": [
    "a.loc[a[\"nan_num\"]>120,['y']].shape # 大于120的有94个"
   ]
  },
  {
   "cell_type": "code",
   "execution_count": 37,
   "metadata": {
    "scrolled": true
   },
   "outputs": [
    {
     "data": {
      "text/html": [
       "<div>\n",
       "<style>\n",
       "    .dataframe thead tr:only-child th {\n",
       "        text-align: right;\n",
       "    }\n",
       "\n",
       "    .dataframe thead th {\n",
       "        text-align: left;\n",
       "    }\n",
       "\n",
       "    .dataframe tbody tr th {\n",
       "        vertical-align: top;\n",
       "    }\n",
       "</style>\n",
       "<table border=\"1\" class=\"dataframe\">\n",
       "  <thead>\n",
       "    <tr style=\"text-align: right;\">\n",
       "      <th></th>\n",
       "      <th>nan_num</th>\n",
       "      <th>y</th>\n",
       "    </tr>\n",
       "  </thead>\n",
       "  <tbody>\n",
       "    <tr>\n",
       "      <th>61</th>\n",
       "      <td>125</td>\n",
       "      <td>0</td>\n",
       "    </tr>\n",
       "    <tr>\n",
       "      <th>103</th>\n",
       "      <td>123</td>\n",
       "      <td>0</td>\n",
       "    </tr>\n",
       "    <tr>\n",
       "      <th>124</th>\n",
       "      <td>127</td>\n",
       "      <td>0</td>\n",
       "    </tr>\n",
       "    <tr>\n",
       "      <th>153</th>\n",
       "      <td>121</td>\n",
       "      <td>0</td>\n",
       "    </tr>\n",
       "    <tr>\n",
       "      <th>164</th>\n",
       "      <td>125</td>\n",
       "      <td>0</td>\n",
       "    </tr>\n",
       "    <tr>\n",
       "      <th>208</th>\n",
       "      <td>124</td>\n",
       "      <td>0</td>\n",
       "    </tr>\n",
       "    <tr>\n",
       "      <th>296</th>\n",
       "      <td>125</td>\n",
       "      <td>0</td>\n",
       "    </tr>\n",
       "    <tr>\n",
       "      <th>477</th>\n",
       "      <td>125</td>\n",
       "      <td>0</td>\n",
       "    </tr>\n",
       "    <tr>\n",
       "      <th>603</th>\n",
       "      <td>125</td>\n",
       "      <td>0</td>\n",
       "    </tr>\n",
       "    <tr>\n",
       "      <th>636</th>\n",
       "      <td>123</td>\n",
       "      <td>0</td>\n",
       "    </tr>\n",
       "    <tr>\n",
       "      <th>655</th>\n",
       "      <td>125</td>\n",
       "      <td>0</td>\n",
       "    </tr>\n",
       "    <tr>\n",
       "      <th>735</th>\n",
       "      <td>121</td>\n",
       "      <td>0</td>\n",
       "    </tr>\n",
       "    <tr>\n",
       "      <th>824</th>\n",
       "      <td>125</td>\n",
       "      <td>0</td>\n",
       "    </tr>\n",
       "    <tr>\n",
       "      <th>834</th>\n",
       "      <td>126</td>\n",
       "      <td>0</td>\n",
       "    </tr>\n",
       "    <tr>\n",
       "      <th>985</th>\n",
       "      <td>125</td>\n",
       "      <td>0</td>\n",
       "    </tr>\n",
       "    <tr>\n",
       "      <th>1009</th>\n",
       "      <td>123</td>\n",
       "      <td>0</td>\n",
       "    </tr>\n",
       "    <tr>\n",
       "      <th>1017</th>\n",
       "      <td>125</td>\n",
       "      <td>0</td>\n",
       "    </tr>\n",
       "    <tr>\n",
       "      <th>1030</th>\n",
       "      <td>125</td>\n",
       "      <td>0</td>\n",
       "    </tr>\n",
       "    <tr>\n",
       "      <th>1096</th>\n",
       "      <td>124</td>\n",
       "      <td>0</td>\n",
       "    </tr>\n",
       "    <tr>\n",
       "      <th>1202</th>\n",
       "      <td>127</td>\n",
       "      <td>0</td>\n",
       "    </tr>\n",
       "    <tr>\n",
       "      <th>1273</th>\n",
       "      <td>126</td>\n",
       "      <td>0</td>\n",
       "    </tr>\n",
       "    <tr>\n",
       "      <th>1354</th>\n",
       "      <td>123</td>\n",
       "      <td>0</td>\n",
       "    </tr>\n",
       "    <tr>\n",
       "      <th>1425</th>\n",
       "      <td>124</td>\n",
       "      <td>0</td>\n",
       "    </tr>\n",
       "    <tr>\n",
       "      <th>1437</th>\n",
       "      <td>128</td>\n",
       "      <td>0</td>\n",
       "    </tr>\n",
       "    <tr>\n",
       "      <th>1466</th>\n",
       "      <td>122</td>\n",
       "      <td>0</td>\n",
       "    </tr>\n",
       "    <tr>\n",
       "      <th>1553</th>\n",
       "      <td>125</td>\n",
       "      <td>0</td>\n",
       "    </tr>\n",
       "    <tr>\n",
       "      <th>1581</th>\n",
       "      <td>125</td>\n",
       "      <td>0</td>\n",
       "    </tr>\n",
       "    <tr>\n",
       "      <th>1625</th>\n",
       "      <td>124</td>\n",
       "      <td>0</td>\n",
       "    </tr>\n",
       "    <tr>\n",
       "      <th>1733</th>\n",
       "      <td>124</td>\n",
       "      <td>0</td>\n",
       "    </tr>\n",
       "    <tr>\n",
       "      <th>1744</th>\n",
       "      <td>124</td>\n",
       "      <td>0</td>\n",
       "    </tr>\n",
       "    <tr>\n",
       "      <th>...</th>\n",
       "      <td>...</td>\n",
       "      <td>...</td>\n",
       "    </tr>\n",
       "    <tr>\n",
       "      <th>3598</th>\n",
       "      <td>126</td>\n",
       "      <td>0</td>\n",
       "    </tr>\n",
       "    <tr>\n",
       "      <th>3602</th>\n",
       "      <td>126</td>\n",
       "      <td>0</td>\n",
       "    </tr>\n",
       "    <tr>\n",
       "      <th>3677</th>\n",
       "      <td>123</td>\n",
       "      <td>0</td>\n",
       "    </tr>\n",
       "    <tr>\n",
       "      <th>3737</th>\n",
       "      <td>125</td>\n",
       "      <td>0</td>\n",
       "    </tr>\n",
       "    <tr>\n",
       "      <th>3776</th>\n",
       "      <td>125</td>\n",
       "      <td>0</td>\n",
       "    </tr>\n",
       "    <tr>\n",
       "      <th>3803</th>\n",
       "      <td>130</td>\n",
       "      <td>0</td>\n",
       "    </tr>\n",
       "    <tr>\n",
       "      <th>3820</th>\n",
       "      <td>122</td>\n",
       "      <td>0</td>\n",
       "    </tr>\n",
       "    <tr>\n",
       "      <th>3848</th>\n",
       "      <td>123</td>\n",
       "      <td>0</td>\n",
       "    </tr>\n",
       "    <tr>\n",
       "      <th>3851</th>\n",
       "      <td>125</td>\n",
       "      <td>0</td>\n",
       "    </tr>\n",
       "    <tr>\n",
       "      <th>3873</th>\n",
       "      <td>122</td>\n",
       "      <td>0</td>\n",
       "    </tr>\n",
       "    <tr>\n",
       "      <th>3912</th>\n",
       "      <td>125</td>\n",
       "      <td>0</td>\n",
       "    </tr>\n",
       "    <tr>\n",
       "      <th>4002</th>\n",
       "      <td>128</td>\n",
       "      <td>0</td>\n",
       "    </tr>\n",
       "    <tr>\n",
       "      <th>4204</th>\n",
       "      <td>129</td>\n",
       "      <td>0</td>\n",
       "    </tr>\n",
       "    <tr>\n",
       "      <th>4227</th>\n",
       "      <td>126</td>\n",
       "      <td>0</td>\n",
       "    </tr>\n",
       "    <tr>\n",
       "      <th>4267</th>\n",
       "      <td>126</td>\n",
       "      <td>0</td>\n",
       "    </tr>\n",
       "    <tr>\n",
       "      <th>4298</th>\n",
       "      <td>125</td>\n",
       "      <td>0</td>\n",
       "    </tr>\n",
       "    <tr>\n",
       "      <th>4321</th>\n",
       "      <td>124</td>\n",
       "      <td>0</td>\n",
       "    </tr>\n",
       "    <tr>\n",
       "      <th>4329</th>\n",
       "      <td>127</td>\n",
       "      <td>0</td>\n",
       "    </tr>\n",
       "    <tr>\n",
       "      <th>4440</th>\n",
       "      <td>126</td>\n",
       "      <td>0</td>\n",
       "    </tr>\n",
       "    <tr>\n",
       "      <th>4507</th>\n",
       "      <td>126</td>\n",
       "      <td>0</td>\n",
       "    </tr>\n",
       "    <tr>\n",
       "      <th>4528</th>\n",
       "      <td>124</td>\n",
       "      <td>0</td>\n",
       "    </tr>\n",
       "    <tr>\n",
       "      <th>4534</th>\n",
       "      <td>123</td>\n",
       "      <td>0</td>\n",
       "    </tr>\n",
       "    <tr>\n",
       "      <th>4585</th>\n",
       "      <td>121</td>\n",
       "      <td>0</td>\n",
       "    </tr>\n",
       "    <tr>\n",
       "      <th>4615</th>\n",
       "      <td>129</td>\n",
       "      <td>0</td>\n",
       "    </tr>\n",
       "    <tr>\n",
       "      <th>4637</th>\n",
       "      <td>126</td>\n",
       "      <td>0</td>\n",
       "    </tr>\n",
       "    <tr>\n",
       "      <th>4639</th>\n",
       "      <td>125</td>\n",
       "      <td>0</td>\n",
       "    </tr>\n",
       "    <tr>\n",
       "      <th>4726</th>\n",
       "      <td>122</td>\n",
       "      <td>0</td>\n",
       "    </tr>\n",
       "    <tr>\n",
       "      <th>4916</th>\n",
       "      <td>126</td>\n",
       "      <td>1</td>\n",
       "    </tr>\n",
       "    <tr>\n",
       "      <th>4941</th>\n",
       "      <td>122</td>\n",
       "      <td>1</td>\n",
       "    </tr>\n",
       "    <tr>\n",
       "      <th>4971</th>\n",
       "      <td>126</td>\n",
       "      <td>1</td>\n",
       "    </tr>\n",
       "  </tbody>\n",
       "</table>\n",
       "<p>94 rows × 2 columns</p>\n",
       "</div>"
      ],
      "text/plain": [
       "      nan_num  y\n",
       "61        125  0\n",
       "103       123  0\n",
       "124       127  0\n",
       "153       121  0\n",
       "164       125  0\n",
       "208       124  0\n",
       "296       125  0\n",
       "477       125  0\n",
       "603       125  0\n",
       "636       123  0\n",
       "655       125  0\n",
       "735       121  0\n",
       "824       125  0\n",
       "834       126  0\n",
       "985       125  0\n",
       "1009      123  0\n",
       "1017      125  0\n",
       "1030      125  0\n",
       "1096      124  0\n",
       "1202      127  0\n",
       "1273      126  0\n",
       "1354      123  0\n",
       "1425      124  0\n",
       "1437      128  0\n",
       "1466      122  0\n",
       "1553      125  0\n",
       "1581      125  0\n",
       "1625      124  0\n",
       "1733      124  0\n",
       "1744      124  0\n",
       "...       ... ..\n",
       "3598      126  0\n",
       "3602      126  0\n",
       "3677      123  0\n",
       "3737      125  0\n",
       "3776      125  0\n",
       "3803      130  0\n",
       "3820      122  0\n",
       "3848      123  0\n",
       "3851      125  0\n",
       "3873      122  0\n",
       "3912      125  0\n",
       "4002      128  0\n",
       "4204      129  0\n",
       "4227      126  0\n",
       "4267      126  0\n",
       "4298      125  0\n",
       "4321      124  0\n",
       "4329      127  0\n",
       "4440      126  0\n",
       "4507      126  0\n",
       "4528      124  0\n",
       "4534      123  0\n",
       "4585      121  0\n",
       "4615      129  0\n",
       "4637      126  0\n",
       "4639      125  0\n",
       "4726      122  0\n",
       "4916      126  1\n",
       "4941      122  1\n",
       "4971      126  1\n",
       "\n",
       "[94 rows x 2 columns]"
      ]
     },
     "execution_count": 37,
     "metadata": {},
     "output_type": "execute_result"
    }
   ],
   "source": [
    "a.loc[a[\"nan_num\"]>120,['nan_num','y']] # 看看 y =1的对应的缺失值"
   ]
  },
  {
   "cell_type": "code",
   "execution_count": 33,
   "metadata": {},
   "outputs": [
    {
     "data": {
      "text/plain": [
       "y    3\n",
       "dtype: int64"
      ]
     },
     "execution_count": 33,
     "metadata": {},
     "output_type": "execute_result"
    }
   ],
   "source": [
    "a.loc[a[\"nan_num\"]>120,['y']].sum() # train 大于 120的之后3个"
   ]
  },
  {
   "cell_type": "code",
   "execution_count": 34,
   "metadata": {},
   "outputs": [
    {
     "data": {
      "text/plain": [
       "y    0\n",
       "dtype: int64"
      ]
     },
     "execution_count": 34,
     "metadata": {},
     "output_type": "execute_result"
    }
   ],
   "source": [
    "a.loc[a[\"nan_num\"]>126,['y']].sum() # 有十四个样本缺失过多，但是都是0，157*0.8 = 125.6# 所以离散化试试"
   ]
  },
  {
   "cell_type": "code",
   "execution_count": null,
   "metadata": {
    "collapsed": true
   },
   "outputs": [],
   "source": [
    "# ------------------------------------看看重复的特征列-----------------------------"
   ]
  },
  {
   "cell_type": "code",
   "execution_count": 11,
   "metadata": {
    "scrolled": false
   },
   "outputs": [
    {
     "name": "stdout",
     "output_type": "stream",
     "text": [
      "x_6 == x_18\n",
      "x_6 == x_28\n",
      "x_12 == x_23\n",
      "x_12 == x_34\n",
      "x_15 == x_25\n",
      "x_18 == x_28\n",
      "x_21 == x_31\n",
      "x_23 == x_34\n",
      "x_92 == x_94\n",
      "x_108 == x_111\n",
      "x_126 == x_138\n",
      "重复的特征： 9\n",
      "['x_23', 'x_111', 'x_18', 'x_94', 'x_31', 'x_34', 'x_28', 'x_138', 'x_25']\n",
      "x_6 == x_18\n",
      "x_6 == x_28\n",
      "x_12 == x_23\n",
      "x_12 == x_34\n",
      "x_18 == x_28\n",
      "x_23 == x_34\n",
      "x_107 == x_116\n",
      "x_108 == x_111\n",
      "重复的特征： 6\n",
      "['x_23', 'x_111', 'x_116', 'x_18', 'x_34', 'x_28']\n"
     ]
    }
   ],
   "source": [
    "def get_same_feat(df):\n",
    "    a = df.corr() # 计算特征列的相关性矩阵\n",
    "    feat = a.columns.tolist()\n",
    "    same_feat = []\n",
    "    num = len(feat)\n",
    "    for i in range(num):\n",
    "        for j in range(i+1,num): # 右上角\n",
    "            if a.iloc[i,j] ==1:  # 相关性一致\n",
    "                print(feat[i] + \" == \" + feat[j])\n",
    "                same_feat.append(feat[j]) # 重复的\n",
    "    print(\"重复的特征：\",len(set(same_feat)))\n",
    "    return list(set(same_feat))\n",
    "train_same_feat = get_same_feat(train)\n",
    "print(train_same_feat)\n",
    "test_sanme_feat = get_same_feat(test)\n",
    "print(test_sanme_feat)"
   ]
  },
  {
   "cell_type": "code",
   "execution_count": 16,
   "metadata": {},
   "outputs": [
    {
     "data": {
      "text/html": [
       "<div>\n",
       "<style>\n",
       "    .dataframe thead tr:only-child th {\n",
       "        text-align: right;\n",
       "    }\n",
       "\n",
       "    .dataframe thead th {\n",
       "        text-align: left;\n",
       "    }\n",
       "\n",
       "    .dataframe tbody tr th {\n",
       "        vertical-align: top;\n",
       "    }\n",
       "</style>\n",
       "<table border=\"1\" class=\"dataframe\">\n",
       "  <thead>\n",
       "    <tr style=\"text-align: right;\">\n",
       "      <th></th>\n",
       "      <th>x_6</th>\n",
       "      <th>x_18</th>\n",
       "      <th>x_28</th>\n",
       "    </tr>\n",
       "  </thead>\n",
       "  <tbody>\n",
       "    <tr>\n",
       "      <th>count</th>\n",
       "      <td>15000.00000</td>\n",
       "      <td>15000.00000</td>\n",
       "      <td>15000.00000</td>\n",
       "    </tr>\n",
       "    <tr>\n",
       "      <th>mean</th>\n",
       "      <td>-50.74740</td>\n",
       "      <td>-50.74740</td>\n",
       "      <td>-50.74740</td>\n",
       "    </tr>\n",
       "    <tr>\n",
       "      <th>std</th>\n",
       "      <td>49.48593</td>\n",
       "      <td>49.48593</td>\n",
       "      <td>49.48593</td>\n",
       "    </tr>\n",
       "    <tr>\n",
       "      <th>min</th>\n",
       "      <td>-99.00000</td>\n",
       "      <td>-99.00000</td>\n",
       "      <td>-99.00000</td>\n",
       "    </tr>\n",
       "    <tr>\n",
       "      <th>25%</th>\n",
       "      <td>-99.00000</td>\n",
       "      <td>-99.00000</td>\n",
       "      <td>-99.00000</td>\n",
       "    </tr>\n",
       "    <tr>\n",
       "      <th>50%</th>\n",
       "      <td>-99.00000</td>\n",
       "      <td>-99.00000</td>\n",
       "      <td>-99.00000</td>\n",
       "    </tr>\n",
       "    <tr>\n",
       "      <th>75%</th>\n",
       "      <td>0.00000</td>\n",
       "      <td>0.00000</td>\n",
       "      <td>0.00000</td>\n",
       "    </tr>\n",
       "    <tr>\n",
       "      <th>max</th>\n",
       "      <td>0.00000</td>\n",
       "      <td>0.00000</td>\n",
       "      <td>0.00000</td>\n",
       "    </tr>\n",
       "  </tbody>\n",
       "</table>\n",
       "</div>"
      ],
      "text/plain": [
       "               x_6         x_18         x_28\n",
       "count  15000.00000  15000.00000  15000.00000\n",
       "mean     -50.74740    -50.74740    -50.74740\n",
       "std       49.48593     49.48593     49.48593\n",
       "min      -99.00000    -99.00000    -99.00000\n",
       "25%      -99.00000    -99.00000    -99.00000\n",
       "50%      -99.00000    -99.00000    -99.00000\n",
       "75%        0.00000      0.00000      0.00000\n",
       "max        0.00000      0.00000      0.00000"
      ]
     },
     "execution_count": 16,
     "metadata": {},
     "output_type": "execute_result"
    }
   ],
   "source": [
    "# 检测一下\n",
    "same = ['x_6','x_18','x_28']\n",
    "train[same].describe()"
   ]
  },
  {
   "cell_type": "code",
   "execution_count": 17,
   "metadata": {},
   "outputs": [
    {
     "data": {
      "text/html": [
       "<div>\n",
       "<style>\n",
       "    .dataframe thead tr:only-child th {\n",
       "        text-align: right;\n",
       "    }\n",
       "\n",
       "    .dataframe thead th {\n",
       "        text-align: left;\n",
       "    }\n",
       "\n",
       "    .dataframe tbody tr th {\n",
       "        vertical-align: top;\n",
       "    }\n",
       "</style>\n",
       "<table border=\"1\" class=\"dataframe\">\n",
       "  <thead>\n",
       "    <tr style=\"text-align: right;\">\n",
       "      <th></th>\n",
       "      <th>x_12</th>\n",
       "      <th>x_23</th>\n",
       "      <th>x_34</th>\n",
       "    </tr>\n",
       "  </thead>\n",
       "  <tbody>\n",
       "    <tr>\n",
       "      <th>count</th>\n",
       "      <td>15000.000000</td>\n",
       "      <td>15000.000000</td>\n",
       "      <td>15000.000000</td>\n",
       "    </tr>\n",
       "    <tr>\n",
       "      <th>mean</th>\n",
       "      <td>-48.477000</td>\n",
       "      <td>-48.477000</td>\n",
       "      <td>-48.477000</td>\n",
       "    </tr>\n",
       "    <tr>\n",
       "      <th>std</th>\n",
       "      <td>49.491078</td>\n",
       "      <td>49.491078</td>\n",
       "      <td>49.491078</td>\n",
       "    </tr>\n",
       "    <tr>\n",
       "      <th>min</th>\n",
       "      <td>-99.000000</td>\n",
       "      <td>-99.000000</td>\n",
       "      <td>-99.000000</td>\n",
       "    </tr>\n",
       "    <tr>\n",
       "      <th>25%</th>\n",
       "      <td>-99.000000</td>\n",
       "      <td>-99.000000</td>\n",
       "      <td>-99.000000</td>\n",
       "    </tr>\n",
       "    <tr>\n",
       "      <th>50%</th>\n",
       "      <td>0.000000</td>\n",
       "      <td>0.000000</td>\n",
       "      <td>0.000000</td>\n",
       "    </tr>\n",
       "    <tr>\n",
       "      <th>75%</th>\n",
       "      <td>0.000000</td>\n",
       "      <td>0.000000</td>\n",
       "      <td>0.000000</td>\n",
       "    </tr>\n",
       "    <tr>\n",
       "      <th>max</th>\n",
       "      <td>0.000000</td>\n",
       "      <td>0.000000</td>\n",
       "      <td>0.000000</td>\n",
       "    </tr>\n",
       "  </tbody>\n",
       "</table>\n",
       "</div>"
      ],
      "text/plain": [
       "               x_12          x_23          x_34\n",
       "count  15000.000000  15000.000000  15000.000000\n",
       "mean     -48.477000    -48.477000    -48.477000\n",
       "std       49.491078     49.491078     49.491078\n",
       "min      -99.000000    -99.000000    -99.000000\n",
       "25%      -99.000000    -99.000000    -99.000000\n",
       "50%        0.000000      0.000000      0.000000\n",
       "75%        0.000000      0.000000      0.000000\n",
       "max        0.000000      0.000000      0.000000"
      ]
     },
     "execution_count": 17,
     "metadata": {},
     "output_type": "execute_result"
    }
   ],
   "source": [
    "same = ['x_12','x_23','x_34']\n",
    "train[same].describe()"
   ]
  },
  {
   "cell_type": "code",
   "execution_count": 18,
   "metadata": {},
   "outputs": [
    {
     "data": {
      "text/html": [
       "<div>\n",
       "<style>\n",
       "    .dataframe thead tr:only-child th {\n",
       "        text-align: right;\n",
       "    }\n",
       "\n",
       "    .dataframe thead th {\n",
       "        text-align: left;\n",
       "    }\n",
       "\n",
       "    .dataframe tbody tr th {\n",
       "        vertical-align: top;\n",
       "    }\n",
       "</style>\n",
       "<table border=\"1\" class=\"dataframe\">\n",
       "  <thead>\n",
       "    <tr style=\"text-align: right;\">\n",
       "      <th></th>\n",
       "      <th>x_15</th>\n",
       "      <th>x_25</th>\n",
       "    </tr>\n",
       "  </thead>\n",
       "  <tbody>\n",
       "    <tr>\n",
       "      <th>count</th>\n",
       "      <td>15000.000000</td>\n",
       "      <td>15000.000000</td>\n",
       "    </tr>\n",
       "    <tr>\n",
       "      <th>mean</th>\n",
       "      <td>-50.739200</td>\n",
       "      <td>-50.739200</td>\n",
       "    </tr>\n",
       "    <tr>\n",
       "      <th>std</th>\n",
       "      <td>49.494481</td>\n",
       "      <td>49.494481</td>\n",
       "    </tr>\n",
       "    <tr>\n",
       "      <th>min</th>\n",
       "      <td>-99.000000</td>\n",
       "      <td>-99.000000</td>\n",
       "    </tr>\n",
       "    <tr>\n",
       "      <th>25%</th>\n",
       "      <td>-99.000000</td>\n",
       "      <td>-99.000000</td>\n",
       "    </tr>\n",
       "    <tr>\n",
       "      <th>50%</th>\n",
       "      <td>-99.000000</td>\n",
       "      <td>-99.000000</td>\n",
       "    </tr>\n",
       "    <tr>\n",
       "      <th>75%</th>\n",
       "      <td>0.000000</td>\n",
       "      <td>0.000000</td>\n",
       "    </tr>\n",
       "    <tr>\n",
       "      <th>max</th>\n",
       "      <td>8.000000</td>\n",
       "      <td>8.000000</td>\n",
       "    </tr>\n",
       "  </tbody>\n",
       "</table>\n",
       "</div>"
      ],
      "text/plain": [
       "               x_15          x_25\n",
       "count  15000.000000  15000.000000\n",
       "mean     -50.739200    -50.739200\n",
       "std       49.494481     49.494481\n",
       "min      -99.000000    -99.000000\n",
       "25%      -99.000000    -99.000000\n",
       "50%      -99.000000    -99.000000\n",
       "75%        0.000000      0.000000\n",
       "max        8.000000      8.000000"
      ]
     },
     "execution_count": 18,
     "metadata": {},
     "output_type": "execute_result"
    }
   ],
   "source": [
    "same = ['x_15','x_25']\n",
    "train[same].describe()"
   ]
  },
  {
   "cell_type": "code",
   "execution_count": 19,
   "metadata": {},
   "outputs": [
    {
     "data": {
      "text/html": [
       "<div>\n",
       "<style>\n",
       "    .dataframe thead tr:only-child th {\n",
       "        text-align: right;\n",
       "    }\n",
       "\n",
       "    .dataframe thead th {\n",
       "        text-align: left;\n",
       "    }\n",
       "\n",
       "    .dataframe tbody tr th {\n",
       "        vertical-align: top;\n",
       "    }\n",
       "</style>\n",
       "<table border=\"1\" class=\"dataframe\">\n",
       "  <thead>\n",
       "    <tr style=\"text-align: right;\">\n",
       "      <th></th>\n",
       "      <th>x_21</th>\n",
       "      <th>x_31</th>\n",
       "    </tr>\n",
       "  </thead>\n",
       "  <tbody>\n",
       "    <tr>\n",
       "      <th>count</th>\n",
       "      <td>15000.000000</td>\n",
       "      <td>15000.000000</td>\n",
       "    </tr>\n",
       "    <tr>\n",
       "      <th>mean</th>\n",
       "      <td>-48.467933</td>\n",
       "      <td>-48.467933</td>\n",
       "    </tr>\n",
       "    <tr>\n",
       "      <th>std</th>\n",
       "      <td>49.500111</td>\n",
       "      <td>49.500111</td>\n",
       "    </tr>\n",
       "    <tr>\n",
       "      <th>min</th>\n",
       "      <td>-99.000000</td>\n",
       "      <td>-99.000000</td>\n",
       "    </tr>\n",
       "    <tr>\n",
       "      <th>25%</th>\n",
       "      <td>-99.000000</td>\n",
       "      <td>-99.000000</td>\n",
       "    </tr>\n",
       "    <tr>\n",
       "      <th>50%</th>\n",
       "      <td>0.000000</td>\n",
       "      <td>0.000000</td>\n",
       "    </tr>\n",
       "    <tr>\n",
       "      <th>75%</th>\n",
       "      <td>0.000000</td>\n",
       "      <td>0.000000</td>\n",
       "    </tr>\n",
       "    <tr>\n",
       "      <th>max</th>\n",
       "      <td>6.000000</td>\n",
       "      <td>6.000000</td>\n",
       "    </tr>\n",
       "  </tbody>\n",
       "</table>\n",
       "</div>"
      ],
      "text/plain": [
       "               x_21          x_31\n",
       "count  15000.000000  15000.000000\n",
       "mean     -48.467933    -48.467933\n",
       "std       49.500111     49.500111\n",
       "min      -99.000000    -99.000000\n",
       "25%      -99.000000    -99.000000\n",
       "50%        0.000000      0.000000\n",
       "75%        0.000000      0.000000\n",
       "max        6.000000      6.000000"
      ]
     },
     "execution_count": 19,
     "metadata": {},
     "output_type": "execute_result"
    }
   ],
   "source": [
    "same = ['x_21','x_31']\n",
    "train[same].describe()"
   ]
  },
  {
   "cell_type": "code",
   "execution_count": 20,
   "metadata": {},
   "outputs": [
    {
     "data": {
      "text/html": [
       "<div>\n",
       "<style>\n",
       "    .dataframe thead tr:only-child th {\n",
       "        text-align: right;\n",
       "    }\n",
       "\n",
       "    .dataframe thead th {\n",
       "        text-align: left;\n",
       "    }\n",
       "\n",
       "    .dataframe tbody tr th {\n",
       "        vertical-align: top;\n",
       "    }\n",
       "</style>\n",
       "<table border=\"1\" class=\"dataframe\">\n",
       "  <thead>\n",
       "    <tr style=\"text-align: right;\">\n",
       "      <th></th>\n",
       "      <th>x_92</th>\n",
       "      <th>x_94</th>\n",
       "    </tr>\n",
       "  </thead>\n",
       "  <tbody>\n",
       "    <tr>\n",
       "      <th>count</th>\n",
       "      <td>15000.00000</td>\n",
       "      <td>15000.00000</td>\n",
       "    </tr>\n",
       "    <tr>\n",
       "      <th>mean</th>\n",
       "      <td>-98.86140</td>\n",
       "      <td>-98.86140</td>\n",
       "    </tr>\n",
       "    <tr>\n",
       "      <th>std</th>\n",
       "      <td>3.70177</td>\n",
       "      <td>3.70177</td>\n",
       "    </tr>\n",
       "    <tr>\n",
       "      <th>min</th>\n",
       "      <td>-99.00000</td>\n",
       "      <td>-99.00000</td>\n",
       "    </tr>\n",
       "    <tr>\n",
       "      <th>25%</th>\n",
       "      <td>-99.00000</td>\n",
       "      <td>-99.00000</td>\n",
       "    </tr>\n",
       "    <tr>\n",
       "      <th>50%</th>\n",
       "      <td>-99.00000</td>\n",
       "      <td>-99.00000</td>\n",
       "    </tr>\n",
       "    <tr>\n",
       "      <th>75%</th>\n",
       "      <td>-99.00000</td>\n",
       "      <td>-99.00000</td>\n",
       "    </tr>\n",
       "    <tr>\n",
       "      <th>max</th>\n",
       "      <td>0.00000</td>\n",
       "      <td>0.00000</td>\n",
       "    </tr>\n",
       "  </tbody>\n",
       "</table>\n",
       "</div>"
      ],
      "text/plain": [
       "              x_92         x_94\n",
       "count  15000.00000  15000.00000\n",
       "mean     -98.86140    -98.86140\n",
       "std        3.70177      3.70177\n",
       "min      -99.00000    -99.00000\n",
       "25%      -99.00000    -99.00000\n",
       "50%      -99.00000    -99.00000\n",
       "75%      -99.00000    -99.00000\n",
       "max        0.00000      0.00000"
      ]
     },
     "execution_count": 20,
     "metadata": {},
     "output_type": "execute_result"
    }
   ],
   "source": [
    "same = ['x_92','x_94']\n",
    "train[same].describe()"
   ]
  },
  {
   "cell_type": "code",
   "execution_count": 23,
   "metadata": {},
   "outputs": [
    {
     "data": {
      "text/html": [
       "<div>\n",
       "<style>\n",
       "    .dataframe thead tr:only-child th {\n",
       "        text-align: right;\n",
       "    }\n",
       "\n",
       "    .dataframe thead th {\n",
       "        text-align: left;\n",
       "    }\n",
       "\n",
       "    .dataframe tbody tr th {\n",
       "        vertical-align: top;\n",
       "    }\n",
       "</style>\n",
       "<table border=\"1\" class=\"dataframe\">\n",
       "  <thead>\n",
       "    <tr style=\"text-align: right;\">\n",
       "      <th></th>\n",
       "      <th>x_108</th>\n",
       "      <th>x_111</th>\n",
       "    </tr>\n",
       "  </thead>\n",
       "  <tbody>\n",
       "    <tr>\n",
       "      <th>count</th>\n",
       "      <td>15000.000000</td>\n",
       "      <td>15000.000000</td>\n",
       "    </tr>\n",
       "    <tr>\n",
       "      <th>mean</th>\n",
       "      <td>-98.966533</td>\n",
       "      <td>-98.966533</td>\n",
       "    </tr>\n",
       "    <tr>\n",
       "      <th>std</th>\n",
       "      <td>1.832859</td>\n",
       "      <td>1.832859</td>\n",
       "    </tr>\n",
       "    <tr>\n",
       "      <th>min</th>\n",
       "      <td>-99.000000</td>\n",
       "      <td>-99.000000</td>\n",
       "    </tr>\n",
       "    <tr>\n",
       "      <th>25%</th>\n",
       "      <td>-99.000000</td>\n",
       "      <td>-99.000000</td>\n",
       "    </tr>\n",
       "    <tr>\n",
       "      <th>50%</th>\n",
       "      <td>-99.000000</td>\n",
       "      <td>-99.000000</td>\n",
       "    </tr>\n",
       "    <tr>\n",
       "      <th>75%</th>\n",
       "      <td>-99.000000</td>\n",
       "      <td>-99.000000</td>\n",
       "    </tr>\n",
       "    <tr>\n",
       "      <th>max</th>\n",
       "      <td>2.000000</td>\n",
       "      <td>2.000000</td>\n",
       "    </tr>\n",
       "  </tbody>\n",
       "</table>\n",
       "</div>"
      ],
      "text/plain": [
       "              x_108         x_111\n",
       "count  15000.000000  15000.000000\n",
       "mean     -98.966533    -98.966533\n",
       "std        1.832859      1.832859\n",
       "min      -99.000000    -99.000000\n",
       "25%      -99.000000    -99.000000\n",
       "50%      -99.000000    -99.000000\n",
       "75%      -99.000000    -99.000000\n",
       "max        2.000000      2.000000"
      ]
     },
     "execution_count": 23,
     "metadata": {},
     "output_type": "execute_result"
    }
   ],
   "source": [
    "same = ['x_108','x_111']\n",
    "train[same].describe()"
   ]
  },
  {
   "cell_type": "code",
   "execution_count": 22,
   "metadata": {},
   "outputs": [
    {
     "data": {
      "text/html": [
       "<div>\n",
       "<style>\n",
       "    .dataframe thead tr:only-child th {\n",
       "        text-align: right;\n",
       "    }\n",
       "\n",
       "    .dataframe thead th {\n",
       "        text-align: left;\n",
       "    }\n",
       "\n",
       "    .dataframe tbody tr th {\n",
       "        vertical-align: top;\n",
       "    }\n",
       "</style>\n",
       "<table border=\"1\" class=\"dataframe\">\n",
       "  <thead>\n",
       "    <tr style=\"text-align: right;\">\n",
       "      <th></th>\n",
       "      <th>x_126</th>\n",
       "      <th>x_138</th>\n",
       "    </tr>\n",
       "  </thead>\n",
       "  <tbody>\n",
       "    <tr>\n",
       "      <th>count</th>\n",
       "      <td>15000.000000</td>\n",
       "      <td>15000.000000</td>\n",
       "    </tr>\n",
       "    <tr>\n",
       "      <th>mean</th>\n",
       "      <td>-98.993333</td>\n",
       "      <td>-98.993333</td>\n",
       "    </tr>\n",
       "    <tr>\n",
       "      <th>std</th>\n",
       "      <td>0.816497</td>\n",
       "      <td>0.816497</td>\n",
       "    </tr>\n",
       "    <tr>\n",
       "      <th>min</th>\n",
       "      <td>-99.000000</td>\n",
       "      <td>-99.000000</td>\n",
       "    </tr>\n",
       "    <tr>\n",
       "      <th>25%</th>\n",
       "      <td>-99.000000</td>\n",
       "      <td>-99.000000</td>\n",
       "    </tr>\n",
       "    <tr>\n",
       "      <th>50%</th>\n",
       "      <td>-99.000000</td>\n",
       "      <td>-99.000000</td>\n",
       "    </tr>\n",
       "    <tr>\n",
       "      <th>75%</th>\n",
       "      <td>-99.000000</td>\n",
       "      <td>-99.000000</td>\n",
       "    </tr>\n",
       "    <tr>\n",
       "      <th>max</th>\n",
       "      <td>1.000000</td>\n",
       "      <td>1.000000</td>\n",
       "    </tr>\n",
       "  </tbody>\n",
       "</table>\n",
       "</div>"
      ],
      "text/plain": [
       "              x_126         x_138\n",
       "count  15000.000000  15000.000000\n",
       "mean     -98.993333    -98.993333\n",
       "std        0.816497      0.816497\n",
       "min      -99.000000    -99.000000\n",
       "25%      -99.000000    -99.000000\n",
       "50%      -99.000000    -99.000000\n",
       "75%      -99.000000    -99.000000\n",
       "max        1.000000      1.000000"
      ]
     },
     "execution_count": 22,
     "metadata": {},
     "output_type": "execute_result"
    }
   ],
   "source": [
    "same = ['x_126','x_138']\n",
    "train[same].describe()"
   ]
  },
  {
   "cell_type": "code",
   "execution_count": null,
   "metadata": {
    "collapsed": true
   },
   "outputs": [],
   "source": [
    "#-----------------------------------观察一些特征------------------------------------------"
   ]
  },
  {
   "cell_type": "code",
   "execution_count": 29,
   "metadata": {},
   "outputs": [
    {
     "name": "stdout",
     "output_type": "stream",
     "text": [
      "看看只有一两个值的特征\n",
      "Feature(x_6) ----- count(2)\n",
      "Feature(x_12) ----- count(2)\n",
      "Feature(x_18) ----- count(2)\n",
      "Feature(x_23) ----- count(2)\n",
      "Feature(x_28) ----- count(2)\n",
      "Feature(x_34) ----- count(2)\n",
      "Feature(x_92) ----- count(2)\n",
      "Feature(x_94) ----- count(2)\n",
      "Feature(x_96) ----- count(2)\n",
      "Feature(x_102) ----- count(2)\n",
      "Feature(x_107) ----- count(2)\n",
      "Feature(x_110) ----- count(1)\n",
      "Feature(x_112) ----- count(1)\n",
      "Feature(x_113) ----- count(2)\n",
      "Feature(x_114) ----- count(2)\n",
      "Feature(x_116) ----- count(1)\n",
      "Feature(x_118) ----- count(2)\n",
      "Feature(x_126) ----- count(2)\n",
      "Feature(x_129) ----- count(1)\n",
      "Feature(x_131) ----- count(2)\n",
      "Feature(x_132) ----- count(1)\n",
      "Feature(x_133) ----- count(2)\n",
      "Feature(x_134) ----- count(1)\n",
      "Feature(x_135) ----- count(2)\n",
      "Feature(x_137) ----- count(2)\n",
      "Feature(x_138) ----- count(2)\n",
      "Feature(x_151) ----- count(2)\n"
     ]
    }
   ],
   "source": [
    "# 对一些只有两三个值的特征，观看一下\n",
    "print(\"看看只有一两个值的特征\")\n",
    "one_value_feats = []\n",
    "for feature in train_xy.columns:\n",
    "    uniq_num = len(train_xy[feature].unique())\n",
    "    if uniq_num <=2:\n",
    "        if feature == 'y':\n",
    "            continue\n",
    "        print(\"Feature(%s) ----- count(%d)\" % (feature, uniq_num))\n",
    "        one_value_feats.append(feature)\n",
    "# 特征变量x1-x95是数值型变量，x96-x157是类别型变量，x变量的缺失值统一以-99表示。"
   ]
  },
  {
   "cell_type": "code",
   "execution_count": 31,
   "metadata": {},
   "outputs": [
    {
     "data": {
      "text/plain": [
       "27"
      ]
     },
     "execution_count": 31,
     "metadata": {},
     "output_type": "execute_result"
    }
   ],
   "source": [
    "len(one_value_feats)"
   ]
  },
  {
   "cell_type": "code",
   "execution_count": 30,
   "metadata": {},
   "outputs": [
    {
     "name": "stdout",
     "output_type": "stream",
     "text": [
      "****************************************************\n",
      "x_6\n",
      "-99    7689\n",
      " 0     7311\n",
      "Name: x_6, dtype: int64\n",
      "y       0    1\n",
      "x_6           \n",
      "-99  7455  234\n",
      " 0   6854  457\n"
     ]
    },
    {
     "data": {
      "image/png": "[encoded data removed]",
      "text/plain": [
       "<matplotlib.figure.Figure at 0x7f9522460550>"
      ]
     },
     "metadata": {},
     "output_type": "display_data"
    },
    {
     "name": "stdout",
     "output_type": "stream",
     "text": [
      "****************************************************\n",
      "x_12\n",
      " 0     7655\n",
      "-99    7345\n",
      "Name: x_12, dtype: int64\n",
      "y        0    1\n",
      "x_12           \n",
      "-99   7126  219\n",
      " 0    7183  472\n"
     ]
    },
    {
     "data": {
      "image/png": "[encoded data removed]",
      "text/plain": [
       "<matplotlib.figure.Figure at 0x7f9521eb3780>"
      ]
     },
     "metadata": {},
     "output_type": "display_data"
    },
    {
     "name": "stdout",
     "output_type": "stream",
     "text": [
      "****************************************************\n",
      "x_18\n",
      "-99    7689\n",
      " 0     7311\n",
      "Name: x_18, dtype: int64\n",
      "y        0    1\n",
      "x_18           \n",
      "-99   7455  234\n",
      " 0    6854  457\n"
     ]
    },
    {
     "data": {
      "image/png": "[encoded data removed]",
      "text/plain": [
       "<matplotlib.figure.Figure at 0x7f9521c7d748>"
      ]
     },
     "metadata": {},
     "output_type": "display_data"
    },
    {
     "name": "stdout",
     "output_type": "stream",
     "text": [
      "****************************************************\n",
      "x_23\n",
      " 0     7655\n",
      "-99    7345\n",
      "Name: x_23, dtype: int64\n",
      "y        0    1\n",
      "x_23           \n",
      "-99   7126  219\n",
      " 0    7183  472\n"
     ]
    },
    {
     "data": {
      "image/png": "[encoded data removed]",
      "text/plain": [
       "<matplotlib.figure.Figure at 0x7f95200fdba8>"
      ]
     },
     "metadata": {},
     "output_type": "display_data"
    },
    {
     "name": "stdout",
     "output_type": "stream",
     "text": [
      "****************************************************\n",
      "x_28\n",
      "-99    7689\n",
      " 0     7311\n",
      "Name: x_28, dtype: int64\n",
      "y        0    1\n",
      "x_28           \n",
      "-99   7455  234\n",
      " 0    6854  457\n"
     ]
    },
    {
     "data": {
      "image/png": "[encoded data removed]",
      "text/plain": [
       "<matplotlib.figure.Figure at 0x7f95157d76d8>"
      ]
     },
     "metadata": {},
     "output_type": "display_data"
    },
    {
     "name": "stdout",
     "output_type": "stream",
     "text": [
      "****************************************************\n",
      "x_34\n",
      " 0     7655\n",
      "-99    7345\n",
      "Name: x_34, dtype: int64\n",
      "y        0    1\n",
      "x_34           \n",
      "-99   7126  219\n",
      " 0    7183  472\n"
     ]
    },
    {
     "data": {
      "image/png": "[encoded data removed]",
      "text/plain": [
       "<matplotlib.figure.Figure at 0x7f952010d668>"
      ]
     },
     "metadata": {},
     "output_type": "display_data"
    },
    {
     "name": "stdout",
     "output_type": "stream",
     "text": [
      "****************************************************\n",
      "x_92\n",
      "-99    14979\n",
      " 0        21\n",
      "Name: x_92, dtype: int64\n",
      "y         0    1\n",
      "x_92            \n",
      "-99   14288  691\n",
      " 0       21    0\n"
     ]
    },
    {
     "data": {
      "image/png": "[encoded data removed]",
      "text/plain": [
       "<matplotlib.figure.Figure at 0x7f9521eb39e8>"
      ]
     },
     "metadata": {},
     "output_type": "display_data"
    },
    {
     "name": "stdout",
     "output_type": "stream",
     "text": [
      "****************************************************\n",
      "x_94\n",
      "-99    14979\n",
      " 0        21\n",
      "Name: x_94, dtype: int64\n",
      "y         0    1\n",
      "x_94            \n",
      "-99   14288  691\n",
      " 0       21    0\n"
     ]
    },
    {
     "data": {
      "image/png": "[encoded data removed]",
      "text/plain": [
       "<matplotlib.figure.Figure at 0x7f9521f49f98>"
      ]
     },
     "metadata": {},
     "output_type": "display_data"
    },
    {
     "name": "stdout",
     "output_type": "stream",
     "text": [
      "****************************************************\n",
      "x_96\n",
      "1    10572\n",
      "2     4428\n",
      "Name: x_96, dtype: int64\n",
      "y         0    1\n",
      "x_96            \n",
      "1     10062  510\n",
      "2      4247  181\n"
     ]
    },
    {
     "data": {
      "image/png": "[encoded data removed]",
      "text/plain": [
       "<matplotlib.figure.Figure at 0x7f9521ff1f60>"
      ]
     },
     "metadata": {},
     "output_type": "display_data"
    },
    {
     "name": "stdout",
     "output_type": "stream",
     "text": [
      "****************************************************\n",
      "x_102\n",
      "-99    14999\n",
      " 2         1\n",
      "Name: x_102, dtype: int64\n",
      "y          0    1\n",
      "x_102            \n",
      "-99    14308  691\n",
      " 2         1    0\n"
     ]
    },
    {
     "data": {
      "image/png": "[encoded data removed]",
      "text/plain": [
       "<matplotlib.figure.Figure at 0x7f9521f0b6d8>"
      ]
     },
     "metadata": {},
     "output_type": "display_data"
    },
    {
     "name": "stdout",
     "output_type": "stream",
     "text": [
      "****************************************************\n",
      "x_107\n",
      "-99    14998\n",
      " 0         2\n",
      "Name: x_107, dtype: int64\n",
      "y          0    1\n",
      "x_107            \n",
      "-99    14307  691\n",
      " 0         2    0\n"
     ]
    },
    {
     "data": {
      "image/png": "[encoded data removed]",
      "text/plain": [
       "<matplotlib.figure.Figure at 0x7f9521ccc7f0>"
      ]
     },
     "metadata": {},
     "output_type": "display_data"
    },
    {
     "name": "stdout",
     "output_type": "stream",
     "text": [
      "****************************************************\n",
      "x_110\n",
      "-99    15000\n",
      "Name: x_110, dtype: int64\n",
      "y          0    1\n",
      "x_110            \n",
      "-99    14309  691\n"
     ]
    },
    {
     "data": {
      "image/png": "[encoded data removed]",
      "text/plain": [
       "<matplotlib.figure.Figure at 0x7f951577efd0>"
      ]
     },
     "metadata": {},
     "output_type": "display_data"
    },
    {
     "name": "stdout",
     "output_type": "stream",
     "text": [
      "****************************************************\n",
      "x_112\n",
      "-99    15000\n",
      "Name: x_112, dtype: int64\n",
      "y          0    1\n",
      "x_112            \n",
      "-99    14309  691\n"
     ]
    },
    {
     "data": {
      "image/png": "[encoded data removed]",
      "text/plain": [
       "<matplotlib.figure.Figure at 0x7f95156ed0f0>"
      ]
     },
     "metadata": {},
     "output_type": "display_data"
    },
    {
     "name": "stdout",
     "output_type": "stream",
     "text": [
      "****************************************************\n",
      "x_113\n",
      "-99    14999\n",
      " 0         1\n",
      "Name: x_113, dtype: int64\n",
      "y          0    1\n",
      "x_113            \n",
      "-99    14308  691\n",
      " 0         1    0\n"
     ]
    },
    {
     "data": {
      "image/png": "[encoded data removed]",
      "text/plain": [
       "<matplotlib.figure.Figure at 0x7f95157169e8>"
      ]
     },
     "metadata": {},
     "output_type": "display_data"
    },
    {
     "name": "stdout",
     "output_type": "stream",
     "text": [
      "****************************************************\n",
      "x_114\n",
      "-99    14999\n",
      " 2         1\n",
      "Name: x_114, dtype: int64\n",
      "y          0    1\n",
      "x_114            \n",
      "-99    14308  691\n",
      " 2         1    0\n"
     ]
    },
    {
     "data": {
      "image/png": "[encoded data removed]",
      "text/plain": [
       "<matplotlib.figure.Figure at 0x7f95156725c0>"
      ]
     },
     "metadata": {},
     "output_type": "display_data"
    },
    {
     "name": "stdout",
     "output_type": "stream",
     "text": [
      "****************************************************\n",
      "x_116\n",
      "-99    15000\n",
      "Name: x_116, dtype: int64\n",
      "y          0    1\n",
      "x_116            \n",
      "-99    14309  691\n"
     ]
    },
    {
     "data": {
      "image/png": "[encoded data removed]",
      "text/plain": [
       "<matplotlib.figure.Figure at 0x7f95155a8da0>"
      ]
     },
     "metadata": {},
     "output_type": "display_data"
    },
    {
     "name": "stdout",
     "output_type": "stream",
     "text": [
      "****************************************************\n",
      "x_118\n",
      "-99    14999\n",
      " 0         1\n",
      "Name: x_118, dtype: int64\n",
      "y          0    1\n",
      "x_118            \n",
      "-99    14308  691\n",
      " 0         1    0\n"
     ]
    },
    {
     "data": {
      "image/png": "[encoded data removed]",
      "text/plain": [
       "<matplotlib.figure.Figure at 0x7f9515602668>"
      ]
     },
     "metadata": {},
     "output_type": "display_data"
    },
    {
     "name": "stdout",
     "output_type": "stream",
     "text": [
      "****************************************************\n",
      "x_126\n",
      "-99    14999\n",
      " 1         1\n",
      "Name: x_126, dtype: int64\n",
      "y          0    1\n",
      "x_126            \n",
      "-99    14308  691\n",
      " 1         1    0\n"
     ]
    },
    {
     "data": {
      "image/png": "[encoded data removed]",
      "text/plain": [
       "<matplotlib.figure.Figure at 0x7f9515618be0>"
      ]
     },
     "metadata": {},
     "output_type": "display_data"
    },
    {
     "name": "stdout",
     "output_type": "stream",
     "text": [
      "****************************************************\n",
      "x_129\n",
      "-99    15000\n",
      "Name: x_129, dtype: int64\n",
      "y          0    1\n",
      "x_129            \n",
      "-99    14309  691\n"
     ]
    },
    {
     "data": {
      "image/png": "[encoded data removed]",
      "text/plain": [
       "<matplotlib.figure.Figure at 0x7f9521f6fbe0>"
      ]
     },
     "metadata": {},
     "output_type": "display_data"
    },
    {
     "name": "stdout",
     "output_type": "stream",
     "text": [
      "****************************************************\n",
      "x_131\n",
      "-99    14999\n",
      " 0         1\n",
      "Name: x_131, dtype: int64\n",
      "y          0    1\n",
      "x_131            \n",
      "-99    14308  691\n",
      " 0         1    0\n"
     ]
    },
    {
     "data": {
      "image/png": "[encoded data removed]",
      "text/plain": [
       "<matplotlib.figure.Figure at 0x7f9521d78940>"
      ]
     },
     "metadata": {},
     "output_type": "display_data"
    },
    {
     "name": "stdout",
     "output_type": "stream",
     "text": [
      "****************************************************\n",
      "x_132\n",
      "-99    15000\n",
      "Name: x_132, dtype: int64\n",
      "y          0    1\n",
      "x_132            \n",
      "-99    14309  691\n"
     ]
    },
    {
     "data": {
      "image/png": "[encoded data removed]",
      "text/plain": [
       "<matplotlib.figure.Figure at 0x7f9521d52fd0>"
      ]
     },
     "metadata": {},
     "output_type": "display_data"
    },
    {
     "name": "stdout",
     "output_type": "stream",
     "text": [
      "****************************************************\n",
      "x_133\n",
      "-99    14999\n",
      " 2         1\n",
      "Name: x_133, dtype: int64\n",
      "y          0    1\n",
      "x_133            \n",
      "-99    14308  691\n",
      " 2         1    0\n"
     ]
    },
    {
     "data": {
      "image/png": "[encoded data removed]",
      "text/plain": [
       "<matplotlib.figure.Figure at 0x7f951567b630>"
      ]
     },
     "metadata": {},
     "output_type": "display_data"
    },
    {
     "name": "stdout",
     "output_type": "stream",
     "text": [
      "****************************************************\n",
      "x_134\n",
      "-99    15000\n",
      "Name: x_134, dtype: int64\n",
      "y          0    1\n",
      "x_134            \n",
      "-99    14309  691\n"
     ]
    },
    {
     "data": {
      "image/png": "[encoded data removed]",
      "text/plain": [
       "<matplotlib.figure.Figure at 0x7f9521d0ec50>"
      ]
     },
     "metadata": {},
     "output_type": "display_data"
    },
    {
     "name": "stdout",
     "output_type": "stream",
     "text": [
      "****************************************************\n",
      "x_135\n",
      "-99    14999\n",
      " 2         1\n",
      "Name: x_135, dtype: int64\n",
      "y          0    1\n",
      "x_135            \n",
      "-99    14308  691\n",
      " 2         1    0\n"
     ]
    },
    {
     "data": {
      "image/png": "[encoded data removed]",
      "text/plain": [
       "<matplotlib.figure.Figure at 0x7f95156bc668>"
      ]
     },
     "metadata": {},
     "output_type": "display_data"
    },
    {
     "name": "stdout",
     "output_type": "stream",
     "text": [
      "****************************************************\n",
      "x_137\n",
      "-99    14999\n",
      " 2         1\n",
      "Name: x_137, dtype: int64\n",
      "y          0    1\n",
      "x_137            \n",
      "-99    14308  691\n",
      " 2         1    0\n"
     ]
    },
    {
     "data": {
      "image/png": "[encoded data removed]",
      "text/plain": [
       "<matplotlib.figure.Figure at 0x7f95157865f8>"
      ]
     },
     "metadata": {},
     "output_type": "display_data"
    },
    {
     "name": "stdout",
     "output_type": "stream",
     "text": [
      "****************************************************\n",
      "x_138\n",
      "-99    14999\n",
      " 1         1\n",
      "Name: x_138, dtype: int64\n",
      "y          0    1\n",
      "x_138            \n",
      "-99    14308  691\n",
      " 1         1    0\n"
     ]
    },
    {
     "data": {
      "image/png": "[encoded data removed]",
      "text/plain": [
       "<matplotlib.figure.Figure at 0x7f95157de5f8>"
      ]
     },
     "metadata": {},
     "output_type": "display_data"
    },
    {
     "name": "stdout",
     "output_type": "stream",
     "text": [
      "****************************************************\n",
      "x_151\n",
      " 1     14954\n",
      "-99       46\n",
      "Name: x_151, dtype: int64\n",
      "y          0    1\n",
      "x_151            \n",
      "-99       44    2\n",
      " 1     14265  689\n"
     ]
    },
    {
     "data": {
      "image/png": "[encoded data removed]",
      "text/plain": [
       "<matplotlib.figure.Figure at 0x7f95200cb3c8>"
      ]
     },
     "metadata": {},
     "output_type": "display_data"
    }
   ],
   "source": [
    "for feat in one_value_feats:\n",
    "    print('****************************************************')\n",
    "    print(feat)\n",
    "    print(train_xy[feat].value_counts())\n",
    "    df = pd.crosstab(train_xy[feat],train_xy['y'])\n",
    "    print(df)\n",
    "    df.plot(kind='bar',figsize = (8,6))\n",
    "    plt.xlabel(feat)\n",
    "    plt.ylabel('count')\n",
    "    plt.title(feat+' & '+'y')\n",
    "    plt.legend(loc = 'best')\n",
    "    plt.show()\n",
    "'''\n",
    "# 数值型特征\n",
    "x_6特征正常，虽然只有0 + nan,但是分布大体一致\n",
    "x_12同上\n",
    "x_18 == x_6 == x_28\n",
    "x_23 == x_12 == x_34\n",
    "\n",
    "x_92 =0 ，y=0\n",
    "x_94 == x_92\n",
    "--------------------------------------------------\n",
    "# 类别特征\n",
    "x_96 = 1,2 没有nan\n",
    "\n",
    "x_113 = 0,y=0,只有一个样本  == x_118 == x_131\n",
    "x_126 = 1,y=0,只有一个样本  == x_102 == x_138\n",
    "x_102 = 2,y=0,只有一个样本  == x_133  == x_135 == x_137 == x_114\n",
    "x_107 = 0,y=0,只有两个样本\n",
    "\n",
    "x_116 == x_112  == x_110 == x_129 == x_132 ==x_134 全部nan\n",
    "\n",
    "x_151 大部分是1，缺失值不多，44/46个nan = 0\n",
    "'''\n"
   ]
  },
  {
   "cell_type": "markdown",
   "metadata": {},
   "source": [
    "这样的特征观察，是为了发现一些特征是否有特别情况，就是其对应的类别分布不一样，这里面则必有其含义。"
   ]
  },
  {
   "cell_type": "code",
   "execution_count": null,
   "metadata": {
    "collapsed": true
   },
   "outputs": [],
   "source": [
    "# ----------------------------------------------------------------------"
   ]
  },
  {
   "cell_type": "code",
   "execution_count": 32,
   "metadata": {},
   "outputs": [
    {
     "data": {
      "text/plain": [
       "<matplotlib.axes._subplots.AxesSubplot at 0x7f95200d2518>"
      ]
     },
     "execution_count": 32,
     "metadata": {},
     "output_type": "execute_result"
    },
    {
     "data": {
      "image/png": "[encoded data removed]",
      "text/plain": [
       "<matplotlib.figure.Figure at 0x7f95157f15f8>"
      ]
     },
     "metadata": {},
     "output_type": "display_data"
    }
   ],
   "source": [
    "# 现在看看一些重要的特征\n",
    "train['x_1'].plot(kind = 'kde') # float"
   ]
  },
  {
   "cell_type": "code",
   "execution_count": 20,
   "metadata": {},
   "outputs": [
    {
     "data": {
      "text/plain": [
       "cust_group\n",
       "group_1    AxesSubplot(0.125,0.125;0.775x0.755)\n",
       "group_2    AxesSubplot(0.125,0.125;0.775x0.755)\n",
       "group_3    AxesSubplot(0.125,0.125;0.775x0.755)\n",
       "Name: x_1, dtype: object"
      ]
     },
     "execution_count": 20,
     "metadata": {},
     "output_type": "execute_result"
    },
    {
     "data": {
      "image/png": "[encoded data removed]",
      "text/plain": [
       "<matplotlib.figure.Figure at 0x7f78830f4518>"
      ]
     },
     "metadata": {},
     "output_type": "display_data"
    }
   ],
   "source": [
    "train['x_1'].groupby(train['cust_group']).plot(kind = 'kde')"
   ]
  },
  {
   "cell_type": "code",
   "execution_count": 33,
   "metadata": {},
   "outputs": [
    {
     "data": {
      "text/plain": [
       "<matplotlib.axes._subplots.AxesSubplot at 0x7f9521c7ab70>"
      ]
     },
     "execution_count": 33,
     "metadata": {},
     "output_type": "execute_result"
    },
    {
     "data": {
      "image/png": "[encoded data removed]",
      "text/plain": [
       "<matplotlib.figure.Figure at 0x7f950d69cf60>"
      ]
     },
     "metadata": {},
     "output_type": "display_data"
    }
   ],
   "source": [
    "train['x_2'].plot(kind = 'kde')"
   ]
  },
  {
   "cell_type": "code",
   "execution_count": 24,
   "metadata": {},
   "outputs": [
    {
     "data": {
      "text/html": [
       "<div>\n",
       "<style>\n",
       "    .dataframe thead tr:only-child th {\n",
       "        text-align: right;\n",
       "    }\n",
       "\n",
       "    .dataframe thead th {\n",
       "        text-align: left;\n",
       "    }\n",
       "\n",
       "    .dataframe tbody tr th {\n",
       "        vertical-align: top;\n",
       "    }\n",
       "</style>\n",
       "<table border=\"1\" class=\"dataframe\">\n",
       "  <thead>\n",
       "    <tr style=\"text-align: right;\">\n",
       "      <th></th>\n",
       "      <th>count</th>\n",
       "      <th>mean</th>\n",
       "      <th>std</th>\n",
       "      <th>min</th>\n",
       "      <th>25%</th>\n",
       "      <th>50%</th>\n",
       "      <th>75%</th>\n",
       "      <th>max</th>\n",
       "    </tr>\n",
       "    <tr>\n",
       "      <th>cust_group</th>\n",
       "      <th></th>\n",
       "      <th></th>\n",
       "      <th></th>\n",
       "      <th></th>\n",
       "      <th></th>\n",
       "      <th></th>\n",
       "      <th></th>\n",
       "      <th></th>\n",
       "    </tr>\n",
       "  </thead>\n",
       "  <tbody>\n",
       "    <tr>\n",
       "      <th>group_1</th>\n",
       "      <td>5000.0</td>\n",
       "      <td>0.631111</td>\n",
       "      <td>0.218640</td>\n",
       "      <td>0.000127</td>\n",
       "      <td>0.480120</td>\n",
       "      <td>0.641421</td>\n",
       "      <td>0.809076</td>\n",
       "      <td>0.999979</td>\n",
       "    </tr>\n",
       "    <tr>\n",
       "      <th>group_2</th>\n",
       "      <td>5000.0</td>\n",
       "      <td>0.557430</td>\n",
       "      <td>0.233901</td>\n",
       "      <td>0.000000</td>\n",
       "      <td>0.424331</td>\n",
       "      <td>0.554951</td>\n",
       "      <td>0.733281</td>\n",
       "      <td>0.999958</td>\n",
       "    </tr>\n",
       "    <tr>\n",
       "      <th>group_3</th>\n",
       "      <td>5000.0</td>\n",
       "      <td>0.640756</td>\n",
       "      <td>0.194456</td>\n",
       "      <td>0.000407</td>\n",
       "      <td>0.490099</td>\n",
       "      <td>0.647683</td>\n",
       "      <td>0.778697</td>\n",
       "      <td>0.999992</td>\n",
       "    </tr>\n",
       "  </tbody>\n",
       "</table>\n",
       "</div>"
      ],
      "text/plain": [
       "             count      mean       std       min       25%       50%  \\\n",
       "cust_group                                                             \n",
       "group_1     5000.0  0.631111  0.218640  0.000127  0.480120  0.641421   \n",
       "group_2     5000.0  0.557430  0.233901  0.000000  0.424331  0.554951   \n",
       "group_3     5000.0  0.640756  0.194456  0.000407  0.490099  0.647683   \n",
       "\n",
       "                 75%       max  \n",
       "cust_group                      \n",
       "group_1     0.809076  0.999979  \n",
       "group_2     0.733281  0.999958  \n",
       "group_3     0.778697  0.999992  "
      ]
     },
     "execution_count": 24,
     "metadata": {},
     "output_type": "execute_result"
    }
   ],
   "source": [
    "train['x_2'].groupby(train['cust_group']).describe()"
   ]
  },
  {
   "cell_type": "code",
   "execution_count": 21,
   "metadata": {},
   "outputs": [
    {
     "data": {
      "text/plain": [
       "cust_group\n",
       "group_1    AxesSubplot(0.125,0.125;0.775x0.755)\n",
       "group_2    AxesSubplot(0.125,0.125;0.775x0.755)\n",
       "group_3    AxesSubplot(0.125,0.125;0.775x0.755)\n",
       "Name: x_2, dtype: object"
      ]
     },
     "execution_count": 21,
     "metadata": {},
     "output_type": "execute_result"
    },
    {
     "data": {
      "image/png": "[encoded data removed]",
      "text/plain": [
       "<matplotlib.figure.Figure at 0x7f78830b13c8>"
      ]
     },
     "metadata": {},
     "output_type": "display_data"
    }
   ],
   "source": [
    "train['x_2'].groupby(train['cust_group']).plot(kind = 'kde')"
   ]
  },
  {
   "cell_type": "code",
   "execution_count": 8,
   "metadata": {},
   "outputs": [
    {
     "data": {
      "text/html": [
       "<div>\n",
       "<style>\n",
       "    .dataframe thead tr:only-child th {\n",
       "        text-align: right;\n",
       "    }\n",
       "\n",
       "    .dataframe thead th {\n",
       "        text-align: left;\n",
       "    }\n",
       "\n",
       "    .dataframe tbody tr th {\n",
       "        vertical-align: top;\n",
       "    }\n",
       "</style>\n",
       "<table border=\"1\" class=\"dataframe\">\n",
       "  <thead>\n",
       "    <tr style=\"text-align: right;\">\n",
       "      <th></th>\n",
       "      <th>x_1</th>\n",
       "      <th>x_2</th>\n",
       "      <th>x_80</th>\n",
       "      <th>x_81</th>\n",
       "      <th>x_95</th>\n",
       "    </tr>\n",
       "  </thead>\n",
       "  <tbody>\n",
       "    <tr>\n",
       "      <th>count</th>\n",
       "      <td>15000.000000</td>\n",
       "      <td>15000.000000</td>\n",
       "      <td>15000.000000</td>\n",
       "      <td>15000.000000</td>\n",
       "      <td>15000.000000</td>\n",
       "    </tr>\n",
       "    <tr>\n",
       "      <th>mean</th>\n",
       "      <td>0.247907</td>\n",
       "      <td>0.609766</td>\n",
       "      <td>0.773244</td>\n",
       "      <td>-0.060300</td>\n",
       "      <td>-17.625106</td>\n",
       "    </tr>\n",
       "    <tr>\n",
       "      <th>std</th>\n",
       "      <td>0.136649</td>\n",
       "      <td>0.219441</td>\n",
       "      <td>0.093250</td>\n",
       "      <td>9.809523</td>\n",
       "      <td>38.248066</td>\n",
       "    </tr>\n",
       "    <tr>\n",
       "      <th>min</th>\n",
       "      <td>0.000000</td>\n",
       "      <td>0.000000</td>\n",
       "      <td>0.000000</td>\n",
       "      <td>-99.000000</td>\n",
       "      <td>-99.000000</td>\n",
       "    </tr>\n",
       "    <tr>\n",
       "      <th>25%</th>\n",
       "      <td>0.145833</td>\n",
       "      <td>0.467884</td>\n",
       "      <td>0.732394</td>\n",
       "      <td>0.889292</td>\n",
       "      <td>0.106383</td>\n",
       "    </tr>\n",
       "    <tr>\n",
       "      <th>50%</th>\n",
       "      <td>0.208333</td>\n",
       "      <td>0.612299</td>\n",
       "      <td>0.769953</td>\n",
       "      <td>0.918330</td>\n",
       "      <td>0.255319</td>\n",
       "    </tr>\n",
       "    <tr>\n",
       "      <th>75%</th>\n",
       "      <td>0.312500</td>\n",
       "      <td>0.773963</td>\n",
       "      <td>0.821596</td>\n",
       "      <td>0.945554</td>\n",
       "      <td>0.436170</td>\n",
       "    </tr>\n",
       "    <tr>\n",
       "      <th>max</th>\n",
       "      <td>0.895833</td>\n",
       "      <td>0.999992</td>\n",
       "      <td>1.000000</td>\n",
       "      <td>1.000000</td>\n",
       "      <td>1.000000</td>\n",
       "    </tr>\n",
       "  </tbody>\n",
       "</table>\n",
       "</div>"
      ],
      "text/plain": [
       "                x_1           x_2          x_80          x_81          x_95\n",
       "count  15000.000000  15000.000000  15000.000000  15000.000000  15000.000000\n",
       "mean       0.247907      0.609766      0.773244     -0.060300    -17.625106\n",
       "std        0.136649      0.219441      0.093250      9.809523     38.248066\n",
       "min        0.000000      0.000000      0.000000    -99.000000    -99.000000\n",
       "25%        0.145833      0.467884      0.732394      0.889292      0.106383\n",
       "50%        0.208333      0.612299      0.769953      0.918330      0.255319\n",
       "75%        0.312500      0.773963      0.821596      0.945554      0.436170\n",
       "max        0.895833      0.999992      1.000000      1.000000      1.000000"
      ]
     },
     "execution_count": 8,
     "metadata": {},
     "output_type": "execute_result"
    }
   ],
   "source": [
    "train[['x_1','x_2','x_80','x_81','x_95']].describe()"
   ]
  },
  {
   "cell_type": "code",
   "execution_count": 34,
   "metadata": {},
   "outputs": [
    {
     "data": {
      "text/plain": [
       "<matplotlib.axes._subplots.AxesSubplot at 0x7f950d6bac18>"
      ]
     },
     "execution_count": 34,
     "metadata": {},
     "output_type": "execute_result"
    },
    {
     "data": {
      "image/png": "[encoded data removed]",
      "text/plain": [
       "<matplotlib.figure.Figure at 0x7f950c0e9588>"
      ]
     },
     "metadata": {},
     "output_type": "display_data"
    }
   ],
   "source": [
    "train['x_80'].plot(kind = 'kde')"
   ]
  },
  {
   "cell_type": "code",
   "execution_count": 37,
   "metadata": {},
   "outputs": [
    {
     "data": {
      "text/plain": [
       "0    128\n",
       "1      5\n",
       "Name: y, dtype: int64"
      ]
     },
     "execution_count": 37,
     "metadata": {},
     "output_type": "execute_result"
    }
   ],
   "source": [
    "train.loc[train['x_80']==0,'y'].value_counts().sort_index() # 看看x_80 = 0 的预测值y"
   ]
  },
  {
   "cell_type": "code",
   "execution_count": 38,
   "metadata": {},
   "outputs": [
    {
     "data": {
      "text/plain": [
       "<matplotlib.axes._subplots.AxesSubplot at 0x7f950c11e9e8>"
      ]
     },
     "execution_count": 38,
     "metadata": {},
     "output_type": "execute_result"
    },
    {
     "data": {
      "image/png": "[encoded data removed]",
      "text/plain": [
       "<matplotlib.figure.Figure at 0x7f950c146e80>"
      ]
     },
     "metadata": {},
     "output_type": "display_data"
    }
   ],
   "source": [
    "train['x_81'].plot(kind = 'kde')"
   ]
  },
  {
   "cell_type": "code",
   "execution_count": 22,
   "metadata": {},
   "outputs": [
    {
     "data": {
      "text/plain": [
       "group_1    133\n",
       "group_2      1\n",
       "group_3     12\n",
       "Name: cust_group, dtype: int64"
      ]
     },
     "execution_count": 22,
     "metadata": {},
     "output_type": "execute_result"
    }
   ],
   "source": [
    "train.loc[train['x_81']==-99,'cust_group'].value_counts().sort_index() # 看看x_80 = -99 的预测值y,有缺失值nan"
   ]
  },
  {
   "cell_type": "code",
   "execution_count": 23,
   "metadata": {},
   "outputs": [
    {
     "data": {
      "text/plain": [
       "0    128\n",
       "1     18\n",
       "Name: y, dtype: int64"
      ]
     },
     "execution_count": 23,
     "metadata": {},
     "output_type": "execute_result"
    }
   ],
   "source": [
    "train.loc[train['x_81']==-99,'y'].value_counts().sort_index() # 看看x_80 = -99 的预测值y,有缺失值nan"
   ]
  },
  {
   "cell_type": "code",
   "execution_count": 42,
   "metadata": {},
   "outputs": [
    {
     "data": {
      "text/plain": [
       "<matplotlib.axes._subplots.AxesSubplot at 0x7f950c037a58>"
      ]
     },
     "execution_count": 42,
     "metadata": {},
     "output_type": "execute_result"
    },
    {
     "data": {
      "image/png": "[encoded data removed]",
      "text/plain": [
       "<matplotlib.figure.Figure at 0x7f950c067898>"
      ]
     },
     "metadata": {},
     "output_type": "display_data"
    }
   ],
   "source": [
    "train['x_95'].plot(kind = 'kde')"
   ]
  },
  {
   "cell_type": "code",
   "execution_count": 43,
   "metadata": {},
   "outputs": [
    {
     "data": {
      "text/plain": [
       "0    2448\n",
       "1     266\n",
       "Name: y, dtype: int64"
      ]
     },
     "execution_count": 43,
     "metadata": {},
     "output_type": "execute_result"
    }
   ],
   "source": [
    "train.loc[train['x_95']==-99,'y'].value_counts().sort_index() # 看看x_95 = -99 的预测值y,有缺失值nan"
   ]
  },
  {
   "cell_type": "code",
   "execution_count": 45,
   "metadata": {},
   "outputs": [
    {
     "data": {
      "text/plain": [
       "<matplotlib.axes._subplots.AxesSubplot at 0x7f94ff7b2400>"
      ]
     },
     "execution_count": 45,
     "metadata": {},
     "output_type": "execute_result"
    },
    {
     "data": {
      "image/png": "[encoded data removed]",
      "text/plain": [
       "<matplotlib.figure.Figure at 0x7f950c097ac8>"
      ]
     },
     "metadata": {},
     "output_type": "display_data"
    }
   ],
   "source": [
    "train['x_52'].plot(kind = 'kde')"
   ]
  },
  {
   "cell_type": "code",
   "execution_count": 48,
   "metadata": {},
   "outputs": [
    {
     "data": {
      "text/plain": [
       "0    123\n",
       "1      5\n",
       "Name: y, dtype: int64"
      ]
     },
     "execution_count": 48,
     "metadata": {},
     "output_type": "execute_result"
    }
   ],
   "source": [
    "train.loc[train['x_52']==-99,'y'].value_counts().sort_index() # 看看x_52 = -99 的预测值y,有缺失值nan"
   ]
  },
  {
   "cell_type": "code",
   "execution_count": 51,
   "metadata": {},
   "outputs": [
    {
     "data": {
      "text/plain": [
       "count    15000.000000\n",
       "mean         3.150000\n",
       "std          9.813286\n",
       "min        -99.000000\n",
       "25%          2.000000\n",
       "50%          3.000000\n",
       "75%          6.000000\n",
       "max         15.000000\n",
       "Name: x_52, dtype: float64"
      ]
     },
     "execution_count": 51,
     "metadata": {},
     "output_type": "execute_result"
    }
   ],
   "source": [
    "train['x_52'].describe()"
   ]
  },
  {
   "cell_type": "code",
   "execution_count": 52,
   "metadata": {},
   "outputs": [
    {
     "data": {
      "text/plain": [
       "count    15000.000000\n",
       "mean         1.081600\n",
       "std          9.338306\n",
       "min        -99.000000\n",
       "25%          1.000000\n",
       "50%          2.000000\n",
       "75%          3.000000\n",
       "max          5.000000\n",
       "Name: x_63, dtype: float64"
      ]
     },
     "execution_count": 52,
     "metadata": {},
     "output_type": "execute_result"
    }
   ],
   "source": [
    "train['x_63'].describe()"
   ]
  },
  {
   "cell_type": "code",
   "execution_count": 47,
   "metadata": {},
   "outputs": [
    {
     "data": {
      "text/plain": [
       "<matplotlib.axes._subplots.AxesSubplot at 0x7f94ff788cc0>"
      ]
     },
     "execution_count": 47,
     "metadata": {},
     "output_type": "execute_result"
    },
    {
     "data": {
      "image/png": "[encoded data removed]",
      "text/plain": [
       "<matplotlib.figure.Figure at 0x7f94ff7117b8>"
      ]
     },
     "metadata": {},
     "output_type": "display_data"
    }
   ],
   "source": [
    "train['x_63'].plot(kind = 'kde')"
   ]
  },
  {
   "cell_type": "code",
   "execution_count": 50,
   "metadata": {},
   "outputs": [
    {
     "data": {
      "text/plain": [
       "0    123\n",
       "1      5\n",
       "Name: y, dtype: int64"
      ]
     },
     "execution_count": 50,
     "metadata": {},
     "output_type": "execute_result"
    }
   ],
   "source": [
    "train.loc[train['x_63']==-99,'y'].value_counts().sort_index() # 看看x_63 = -99 的预测值y,有缺失值nan"
   ]
  },
  {
   "cell_type": "code",
   "execution_count": 46,
   "metadata": {},
   "outputs": [
    {
     "data": {
      "text/plain": [
       "<matplotlib.axes._subplots.AxesSubplot at 0x7f94ff7114e0>"
      ]
     },
     "execution_count": 46,
     "metadata": {},
     "output_type": "execute_result"
    },
    {
     "data": {
      "image/png": "[encoded data removed]",
      "text/plain": [
       "<matplotlib.figure.Figure at 0x7f950c18b3c8>"
      ]
     },
     "metadata": {},
     "output_type": "display_data"
    }
   ],
   "source": [
    "train['x_54'].plot(kind = 'kde')"
   ]
  },
  {
   "cell_type": "code",
   "execution_count": 53,
   "metadata": {},
   "outputs": [
    {
     "data": {
      "text/plain": [
       "count    15000.000000\n",
       "mean         4.348467\n",
       "std         10.052020\n",
       "min        -99.000000\n",
       "25%          3.000000\n",
       "50%          5.000000\n",
       "75%          7.000000\n",
       "max         15.000000\n",
       "Name: x_54, dtype: float64"
      ]
     },
     "execution_count": 53,
     "metadata": {},
     "output_type": "execute_result"
    }
   ],
   "source": [
    "train['x_54'].describe()"
   ]
  },
  {
   "cell_type": "code",
   "execution_count": null,
   "metadata": {
    "collapsed": true
   },
   "outputs": [],
   "source": []
  },
  {
   "cell_type": "code",
   "execution_count": 54,
   "metadata": {},
   "outputs": [
    {
     "data": {
      "text/plain": [
       "<matplotlib.axes._subplots.AxesSubplot at 0x7f94ff719898>"
      ]
     },
     "execution_count": 54,
     "metadata": {},
     "output_type": "execute_result"
    },
    {
     "data": {
      "image/png": "[encoded data removed]",
      "text/plain": [
       "<matplotlib.figure.Figure at 0x7f94ff720b38>"
      ]
     },
     "metadata": {},
     "output_type": "display_data"
    }
   ],
   "source": [
    "# 看看重要性很高的类别特征\n",
    "pd.crosstab(train['x_157'],train['y']).plot(kind = 'bar')"
   ]
  },
  {
   "cell_type": "code",
   "execution_count": 55,
   "metadata": {},
   "outputs": [
    {
     "data": {
      "text/plain": [
       "<matplotlib.axes._subplots.AxesSubplot at 0x7f950c176470>"
      ]
     },
     "execution_count": 55,
     "metadata": {},
     "output_type": "execute_result"
    },
    {
     "data": {
      "image/png": "[encoded data removed]",
      "text/plain": [
       "<matplotlib.figure.Figure at 0x7f9520123160>"
      ]
     },
     "metadata": {},
     "output_type": "display_data"
    }
   ],
   "source": [
    "pd.crosstab(train['x_140'],train['y']).plot(kind = 'bar')"
   ]
  },
  {
   "cell_type": "code",
   "execution_count": 40,
   "metadata": {},
   "outputs": [
    {
     "data": {
      "text/plain": [
       "<matplotlib.axes._subplots.AxesSubplot at 0x7fb346c4d470>"
      ]
     },
     "execution_count": 40,
     "metadata": {},
     "output_type": "execute_result"
    },
    {
     "data": {
      "image/png": "[encoded data removed]",
      "text/plain": [
       "<matplotlib.figure.Figure at 0x7fb346c130f0>"
      ]
     },
     "metadata": {},
     "output_type": "display_data"
    }
   ],
   "source": [
    "pd.crosstab(train['x_97'],train['y']).plot(kind = 'bar')"
   ]
  },
  {
   "cell_type": "code",
   "execution_count": 11,
   "metadata": {},
   "outputs": [
    {
     "data": {
      "text/plain": [
       "count    15000.000000\n",
       "mean       -48.360200\n",
       "std         49.606763\n",
       "min        -99.000000\n",
       "25%        -99.000000\n",
       "50%          0.000000\n",
       "75%          0.000000\n",
       "max          4.000000\n",
       "Name: x_11, dtype: float64"
      ]
     },
     "execution_count": 11,
     "metadata": {},
     "output_type": "execute_result"
    }
   ],
   "source": [
    "# 看看一些重要性 = 0的，但是没删除的特征\n",
    "#----------------------------------------------\n",
    "train['x_11'].describe()"
   ]
  },
  {
   "cell_type": "code",
   "execution_count": 13,
   "metadata": {},
   "outputs": [
    {
     "data": {
      "text/plain": [
       "-99    7345\n",
       " 0     6141\n",
       " 1     1306\n",
       " 2      180\n",
       " 3       26\n",
       " 4        2\n",
       "Name: x_11, dtype: int64"
      ]
     },
     "execution_count": 13,
     "metadata": {},
     "output_type": "execute_result"
    }
   ],
   "source": [
    "train['x_11'].value_counts()"
   ]
  },
  {
   "cell_type": "code",
   "execution_count": 14,
   "metadata": {},
   "outputs": [
    {
     "data": {
      "text/plain": [
       " 0     7655\n",
       "-99    7345\n",
       "Name: x_12, dtype: int64"
      ]
     },
     "execution_count": 14,
     "metadata": {},
     "output_type": "execute_result"
    }
   ],
   "source": [
    "train['x_12'].value_counts()"
   ]
  },
  {
   "cell_type": "code",
   "execution_count": 12,
   "metadata": {},
   "outputs": [
    {
     "data": {
      "text/plain": [
       "count    15000.000000\n",
       "mean       -48.477000\n",
       "std         49.491078\n",
       "min        -99.000000\n",
       "25%        -99.000000\n",
       "50%          0.000000\n",
       "75%          0.000000\n",
       "max          0.000000\n",
       "Name: x_12, dtype: float64"
      ]
     },
     "execution_count": 12,
     "metadata": {},
     "output_type": "execute_result"
    }
   ],
   "source": [
    "train['x_12'].describe()"
   ]
  },
  {
   "cell_type": "code",
   "execution_count": 15,
   "metadata": {},
   "outputs": [
    {
     "data": {
      "text/plain": [
       " 1     14810\n",
       "-99      128\n",
       " 2        33\n",
       " 0        21\n",
       " 5         3\n",
       " 6         2\n",
       " 4         2\n",
       " 9         1\n",
       "Name: x_70, dtype: int64"
      ]
     },
     "execution_count": 15,
     "metadata": {},
     "output_type": "execute_result"
    }
   ],
   "source": [
    "# -------------------------------\n",
    "train['x_70'].value_counts()"
   ]
  },
  {
   "cell_type": "code",
   "execution_count": 17,
   "metadata": {},
   "outputs": [
    {
     "data": {
      "text/plain": [
       " 1     14810\n",
       "-99      128\n",
       " 0        21\n",
       " 2        18\n",
       " 3        17\n",
       " 5         2\n",
       " 4         2\n",
       " 7         1\n",
       " 6         1\n",
       "Name: x_71, dtype: int64"
      ]
     },
     "execution_count": 17,
     "metadata": {},
     "output_type": "execute_result"
    }
   ],
   "source": [
    "train['x_71'].value_counts()"
   ]
  },
  {
   "cell_type": "code",
   "execution_count": 18,
   "metadata": {},
   "outputs": [
    {
     "name": "stdout",
     "output_type": "stream",
     "text": [
      " 1     14866\n",
      " 2        88\n",
      "-99       46\n",
      "Name: x_145, dtype: int64\n",
      " 1     14756\n",
      " 2       198\n",
      "-99       46\n",
      "Name: x_146, dtype: int64\n",
      " 1     14756\n",
      " 2       160\n",
      "-99       46\n",
      " 4        38\n",
      "Name: x_147, dtype: int64\n",
      " 1     14756\n",
      " 2       105\n",
      " 3        93\n",
      "-99       46\n",
      "Name: x_148, dtype: int64\n",
      " 1     14601\n",
      " 3       330\n",
      "-99       46\n",
      " 4        23\n",
      "Name: x_149, dtype: int64\n"
     ]
    }
   ],
   "source": [
    "# ----------------------------\n",
    "print(train['x_145'].value_counts())\n",
    "print(train['x_146'].value_counts())\n",
    "print(train['x_147'].value_counts())\n",
    "print(train['x_148'].value_counts())\n",
    "print(train['x_149'].value_counts())"
   ]
  },
  {
   "cell_type": "code",
   "execution_count": 19,
   "metadata": {},
   "outputs": [
    {
     "name": "stdout",
     "output_type": "stream",
     "text": [
      " 1     14954\n",
      "-99       46\n",
      "Name: x_151, dtype: int64\n",
      " 1     14952\n",
      "-99       46\n",
      " 2         2\n",
      "Name: x_152, dtype: int64\n"
     ]
    }
   ],
   "source": [
    "# ----------------------------\n",
    "print(train['x_151'].value_counts())\n",
    "print(train['x_152'].value_counts())\n"
   ]
  },
  {
   "cell_type": "code",
   "execution_count": 35,
   "metadata": {},
   "outputs": [
    {
     "data": {
      "text/plain": [
       "1    10572\n",
       "2     4428\n",
       "Name: x_96, dtype: int64"
      ]
     },
     "execution_count": 35,
     "metadata": {},
     "output_type": "execute_result"
    }
   ],
   "source": [
    "train['x_96'].value_counts()"
   ]
  },
  {
   "cell_type": "code",
   "execution_count": 36,
   "metadata": {},
   "outputs": [
    {
     "data": {
      "text/plain": [
       " 1     8543\n",
       " 2     5293\n",
       " 3     1015\n",
       "-99     149\n",
       "Name: x_97, dtype: int64"
      ]
     },
     "execution_count": 36,
     "metadata": {},
     "output_type": "execute_result"
    }
   ],
   "source": [
    "train['x_97'].value_counts()"
   ]
  },
  {
   "cell_type": "code",
   "execution_count": null,
   "metadata": {
    "collapsed": true
   },
   "outputs": [],
   "source": []
  },
  {
   "cell_type": "code",
   "execution_count": null,
   "metadata": {
    "collapsed": true
   },
   "outputs": [],
   "source": []
  },
  {
   "cell_type": "code",
   "execution_count": null,
   "metadata": {
    "collapsed": true
   },
   "outputs": [],
   "source": []
  },
  {
   "cell_type": "code",
   "execution_count": null,
   "metadata": {
    "collapsed": true
   },
   "outputs": [],
   "source": []
  },
  {
   "cell_type": "code",
   "execution_count": 40,
   "metadata": {},
   "outputs": [
    {
     "data": {
      "text/plain": [
       "<matplotlib.axes._subplots.AxesSubplot at 0x1df6b3b4390>"
      ]
     },
     "execution_count": 40,
     "metadata": {},
     "output_type": "execute_result"
    },
    {
     "data": {
      "image/png": "[encoded data removed]",
      "text/plain": [
       "<Figure size 432x288 with 1 Axes>"
      ]
     },
     "metadata": {},
     "output_type": "display_data"
    }
   ],
   "source": [
    "# 'x_80','x_2','x_81','x_95','x_1','x_52','x_63','x_54','x_43'\n",
    "train['x_43'].plot(kind = 'kde')\n",
    "#plt.plot(train['x_2'][:1000])"
   ]
  },
  {
   "cell_type": "code",
   "execution_count": null,
   "metadata": {},
   "outputs": [],
   "source": []
  }
 ],
 "metadata": {
  "kernelspec": {
   "display_name": "Python 3",
   "language": "python",
   "name": "python3"
  },
  "language_info": {
   "codemirror_mode": {
    "name": "ipython",
    "version": 3
   },
   "file_extension": ".py",
   "mimetype": "text/x-python",
   "name": "python",
   "nbconvert_exporter": "python",
   "pygments_lexer": "ipython3",
   "version": "3.6.6"
  }
 },
 "nbformat": 4,
 "nbformat_minor": 1
}
