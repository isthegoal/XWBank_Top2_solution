{
 "cells": [
  {
   "cell_type": "markdown",
   "metadata": {},
   "source": [
    "# 尝试使用各种方案进行  两大处理， 样本不均衡问题和   半监督学习方式的使用"
   ]
  },
  {
   "cell_type": "code",
   "execution_count": 1,
   "metadata": {},
   "outputs": [
    {
     "name": "stdout",
     "output_type": "stream",
     "text": [
      "(15000, 160)\n",
      "(10000, 159)\n",
      "(10000, 159)\n",
      "训练集的特征列train： Index(['cust_id', 'cust_group', 'y', 'x_1', 'x_2', 'x_3', 'x_4', 'x_5', 'x_6',\n",
      "       'x_7',\n",
      "       ...\n",
      "       'x_148', 'x_149', 'x_150', 'x_151', 'x_152', 'x_153', 'x_154', 'x_155',\n",
      "       'x_156', 'x_157'],\n",
      "      dtype='object', length=160)\n",
      "训练集的特征列test： Index(['cust_id', 'cust_group', 'x_1', 'x_2', 'x_3', 'x_4', 'x_5', 'x_6',\n",
      "       'x_7', 'x_8',\n",
      "       ...\n",
      "       'x_149', 'x_150', 'x_151', 'x_152', 'x_153', 'x_154', 'x_155', 'x_156',\n",
      "       'x_157', 'y'],\n",
      "      dtype='object', length=160)\n",
      "(15000, 160)\n",
      "(10000, 160)\n",
      "(25000, 160)\n",
      "训练集的特征列： Index(['cust_group', 'cust_id', 'x_1', 'x_10', 'x_100', 'x_101', 'x_102',\n",
      "       'x_103', 'x_104', 'x_105',\n",
      "       ...\n",
      "       'x_91', 'x_92', 'x_93', 'x_94', 'x_95', 'x_96', 'x_97', 'x_98', 'x_99',\n",
      "       'y'],\n",
      "      dtype='object', length=160)\n"
     ]
    },
    {
     "name": "stderr",
     "output_type": "stream",
     "text": [
      "d:\\python35\\lib\\site-packages\\ipykernel_launcher.py:28: FutureWarning: Sorting because non-concatenation axis is not aligned. A future version\n",
      "of pandas will change to not sort by default.\n",
      "\n",
      "To accept the future behavior, pass 'sort=False'.\n",
      "\n",
      "To retain the current behavior and silence the warning, pass 'sort=True'.\n",
      "\n"
     ]
    }
   ],
   "source": [
    "#################     引包   #####################\n",
    "import numpy as np\n",
    "import pandas as pd\n",
    "from pandas import DataFrame\n",
    "from pandas import Series\n",
    "import matplotlib\n",
    "import matplotlib.pyplot as plt\n",
    "import lightgbm as lgb\n",
    "import operator\n",
    "import time\n",
    "import xgboost as xgb\n",
    "\n",
    "%matplotlib inline\n",
    "\n",
    "# 读取文件\n",
    "train_xy = pd.read_csv(\"../data/train_xy.csv\",header=0,sep=\",\")\n",
    "train_x = pd.read_csv(\"../data/train_x.csv\",header=0,sep=\",\")\n",
    "test_all = pd.read_csv(\"../data/test_all.csv\",header=0,sep=\",\")\n",
    "print(train_xy.shape)\n",
    "print(train_x.shape)\n",
    "print(test_all.shape)\n",
    "train = train_xy.copy()\n",
    "test = test_all.copy()\n",
    "test['y'] = -1\n",
    "print('训练集的特征列train：',train.columns)\n",
    "print('测试集的特征列test：',test.columns)\n",
    "# 合并一下train 和 test\n",
    "data = pd.concat([train,test],axis = 0) # train_xy，test_all索引上连接\n",
    "print(train.shape)\n",
    "print(test.shape)\n",
    "print(data.shape)\n",
    "print('训练集的特征列：',data.columns)"
   ]
  },
  {
   "cell_type": "code",
   "execution_count": null,
   "metadata": {},
   "outputs": [],
   "source": []
  },
  {
   "cell_type": "code",
   "execution_count": 2,
   "metadata": {},
   "outputs": [
    {
     "name": "stdout",
     "output_type": "stream",
     "text": [
      "Index(['cust_group', 'y', 'x_1', 'x_2', 'x_3', 'x_4', 'x_5', 'x_6', 'x_7',\n",
      "       'x_8',\n",
      "       ...\n",
      "       'x_148', 'x_149', 'x_150', 'x_151', 'x_152', 'x_153', 'x_154', 'x_155',\n",
      "       'x_156', 'x_157'],\n",
      "      dtype='object', length=159)\n"
     ]
    },
    {
     "ename": "NameError",
     "evalue": "name 'features' is not defined",
     "traceback": [
      "\u001b[1;31m---------------------------------------------------------------------------\u001b[0m",
      "\u001b[1;31mNameError\u001b[0m                                 Traceback (most recent call last)",
      "\u001b[1;32m<ipython-input-2-bb780e720f36>\u001b[0m in \u001b[0;36m<module>\u001b[1;34m()\u001b[0m\n\u001b[0;32m      2\u001b[0m \u001b[0my\u001b[0m \u001b[1;33m=\u001b[0m \u001b[0mtrain\u001b[0m\u001b[1;33m[\u001b[0m\u001b[1;34m'y'\u001b[0m\u001b[1;33m]\u001b[0m\u001b[1;33m.\u001b[0m\u001b[0mvalues\u001b[0m\u001b[1;33m\u001b[0m\u001b[0m\n\u001b[0;32m      3\u001b[0m \u001b[0mprint\u001b[0m\u001b[1;33m(\u001b[0m\u001b[0mtrain\u001b[0m\u001b[1;33m.\u001b[0m\u001b[0mcolumns\u001b[0m\u001b[1;33m)\u001b[0m\u001b[1;33m\u001b[0m\u001b[0m\n\u001b[1;32m----> 4\u001b[1;33m \u001b[0mX\u001b[0m \u001b[1;33m=\u001b[0m \u001b[0mtrain\u001b[0m\u001b[1;33m[\u001b[0m\u001b[0mfeatures\u001b[0m\u001b[1;33m]\u001b[0m\u001b[1;33m.\u001b[0m\u001b[0mvalues\u001b[0m\u001b[1;33m\u001b[0m\u001b[0m\n\u001b[0m\u001b[0;32m      5\u001b[0m \u001b[0mprint\u001b[0m\u001b[1;33m(\u001b[0m\u001b[1;34m'X features :'\u001b[0m\u001b[1;33m,\u001b[0m\u001b[0mfeatures\u001b[0m\u001b[1;33m)\u001b[0m\u001b[1;33m\u001b[0m\u001b[0m\n\u001b[0;32m      6\u001b[0m \u001b[0mprint\u001b[0m\u001b[1;33m(\u001b[0m\u001b[1;34m\"X shape:\"\u001b[0m\u001b[1;33m,\u001b[0m\u001b[0mX\u001b[0m\u001b[1;33m.\u001b[0m\u001b[0mshape\u001b[0m\u001b[1;33m)\u001b[0m\u001b[1;33m\u001b[0m\u001b[0m\n",
      "\u001b[1;31mNameError\u001b[0m: name 'features' is not defined"
     ],
     "output_type": "error"
    }
   ],
   "source": [
    "train_id = train.pop('cust_id')\n",
    "y = train['y'].values\n",
    "print(train.columns)\n",
    "X = train[features].values\n",
    "print('X features :',features)\n",
    "print(\"X shape:\",X.shape)\n",
    "print(\"y shape:\",y.shape)\n",
    "\n",
    "test_id = test.pop('cust_id')\n",
    "test_data = test[features].values\n",
    "print(\"test shape\",test_data.shape)\n",
    "print(train.columns)\n",
    "#train.to_csv('./feature_data/经过特征工程后的整个表.csv')\n",
    "# X.to_csv('./feature_data/train_feature.csv')\n",
    "# y.to_csv('./feature_data/train_label.csv')\n",
    "print('训练集的特征列：',train.columns)\n",
    "\n",
    "#使用最基本特征跑一次得分\n",
    "#开始xgb的cv训练\n",
    "# 采取分层采样\n",
    "from sklearn.model_selection import StratifiedKFold\n",
    "from sklearn.metrics import roc_auc_score\n",
    "print(\"start：********************************\")\n",
    "start = time.time()\n",
    "\n",
    "\n",
    "N = 5\n",
    "skf = StratifiedKFold(n_splits=N,shuffle=True,random_state=2018)\n",
    "\n",
    "auc_cv = []\n",
    "pred_cv = []\n",
    "for k,(train_in,test_in) in enumerate(skf.split(X,y)):\n",
    "    X_train,X_test,y_train,y_test = X[train_in],X[test_in],\\\n",
    "                                    y[train_in],y[test_in]    \n",
    "    # 模型参数\n",
    "    params = {\t'booster':'gbtree',\n",
    "\t'objective': 'binary:logistic',\n",
    "\t'early_stopping_rounds':100,\n",
    "#     'gamma':0,#0.2 is ok\n",
    "#     'max_depth':8,\n",
    "# # \t'lambda':550,\n",
    "    'subsample':0.7,\n",
    "    'colsample_bytree':0.3,\n",
    "    'min_child_weight':2.5, \n",
    "    'eta': 0.007,\n",
    "\t'seed':2018,\n",
    "\t'nthread':7}\n",
    "    dtrain = xgb.DMatrix(X_train, label=y_train)\n",
    "    dvali = xgb.DMatrix(X_test)\n",
    "    model = xgb.train(params, dtrain, num_boost_round=800)\n",
    "    predict = model.predict(dvali)\n",
    "    tmp_auc = roc_auc_score(y_test,predict)\n",
    "    auc_cv.append(tmp_auc)\n",
    "    print(\"valid auc:\",tmp_auc)\n",
    "    # test\n",
    "    pred = model.predict(xgb.DMatrix(test_data))\n",
    "    pred_cv.append(pred) \n",
    "    \n",
    "    \n",
    "#     xgb.plot_importance(model,max_num_features=20)\n",
    "#     plt.title('xgb Feature Importance')\n",
    "#     plt.xlabel('relative importance')\n",
    "#     plt.show()\n",
    "\n",
    "# K交叉验证的平均分数 \n",
    "print('the cv information:')\n",
    "print(auc_cv)\n",
    "print('cv mean score',np.mean(auc_cv))\n",
    "\n",
    "end = time.time()\n",
    "print(\"......................run with time: \",(end - start) / 60.0 )\n",
    "print(\"over:*********************************\")"
   ]
  },
  {
   "cell_type": "markdown",
   "metadata": {},
   "source": [
    "# 第一块  样本不均衡问题"
   ]
  },
  {
   "cell_type": "markdown",
   "metadata": {},
   "source": [
    "# 第二块  半监督学习，样本利用问题"
   ]
  },
  {
   "cell_type": "markdown",
   "metadata": {},
   "source": [
    "# 方案一\n",
    "\n",
    "\n",
    "    使用最好的模型对样本进行预测，迭代找到合适的阈值w，让其满足在一个组内的正负样本比例满足组上的关系：\n",
    "       *对于组1：满足正负比10:1\n",
    "       *对于组2:满足正负比35:1\n",
    "       *对于组2:满足正负比45:1"
   ]
  },
  {
   "cell_type": "code",
   "execution_count": null,
   "metadata": {},
   "outputs": [],
   "source": []
  },
  {
   "cell_type": "markdown",
   "metadata": {},
   "source": [
    "# 方案二\n",
    "      使用传统过采样、权值调整发进行处理"
   ]
  },
  {
   "cell_type": "code",
   "execution_count": null,
   "metadata": {},
   "outputs": [],
   "source": []
  }
 ],
 "metadata": {
  "kernelspec": {
   "display_name": "Python 3",
   "language": "python",
   "name": "python3"
  },
  "language_info": {
   "codemirror_mode": {
    "name": "ipython",
    "version": 3
   },
   "file_extension": ".py",
   "mimetype": "text/x-python",
   "name": "python",
   "nbconvert_exporter": "python",
   "pygments_lexer": "ipython3",
   "version": "3.5.4"
  }
 },
 "nbformat": 4,
 "nbformat_minor": 2
}
