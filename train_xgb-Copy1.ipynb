{
 "cells": [
  {
   "cell_type": "code",
   "execution_count": 31,
   "metadata": {
    "collapsed": true
   },
   "outputs": [],
   "source": [
    "import numpy as np\n",
    "import pandas as pd\n",
    "from pandas import DataFrame\n",
    "from pandas import Series\n",
    "import time"
   ]
  },
  {
   "cell_type": "code",
   "execution_count": 32,
   "metadata": {},
   "outputs": [
    {
     "name": "stdout",
     "output_type": "stream",
     "text": [
      "(15000, 160)\n",
      "(10000, 159)\n",
      "(10000, 159)\n"
     ]
    }
   ],
   "source": [
    "# 读取文件\n",
    "train_xy = pd.read_csv(\"data/train_xy.csv\",header=0,sep=\",\")\n",
    "train_x = pd.read_csv(\"data/train_x.csv\",header=0,sep=\",\")\n",
    "test_all = pd.read_csv(\"data/test_all.csv\",header=0,sep=\",\")\n",
    "\n",
    "print(train_xy.shape)\n",
    "print(train_x.shape)\n",
    "print(test_all.shape)"
   ]
  },
  {
   "cell_type": "code",
   "execution_count": 45,
   "metadata": {},
   "outputs": [
    {
     "name": "stdout",
     "output_type": "stream",
     "text": [
      "(15000, 160)\n",
      "(10000, 160)\n",
      "(25000, 160)\n"
     ]
    }
   ],
   "source": [
    "train = train_xy.copy()\n",
    "test = test_all.copy()\n",
    "test['y'] = -1\n",
    "# 合并一下train 和 test\n",
    "data = pd.concat([train,test],axis = 0) # train_xy，test_all索引上连接\n",
    "print(train.shape)\n",
    "print(test.shape)\n",
    "print(data.shape)"
   ]
  },
  {
   "cell_type": "code",
   "execution_count": 46,
   "metadata": {},
   "outputs": [
    {
     "name": "stdout",
     "output_type": "stream",
     "text": [
      "有用的数值型特征： 95\n",
      "有用的类别型特征： 62\n"
     ]
    }
   ],
   "source": [
    "# 对剩下的特征进行分析，分为数值型 、 类别型\n",
    "numerical_features = []\n",
    "categorical_features = []\n",
    "for i in range(157):\n",
    "    feat = \"x_\" + str(i+1)\n",
    "    if i <= 94: # 1-95\n",
    "        numerical_features.append(feat)\n",
    "    else:\n",
    "        categorical_features.append(feat)\n",
    "print(\"有用的数值型特征：\",len(numerical_features))\n",
    "print(\"有用的类别型特征：\",len(categorical_features))"
   ]
  },
  {
   "cell_type": "code",
   "execution_count": 47,
   "metadata": {},
   "outputs": [
    {
     "name": "stdout",
     "output_type": "stream",
     "text": [
      "(25000, 7)\n",
      "(25000, 167)\n"
     ]
    }
   ],
   "source": [
    "# 统计每个用户缺失值的个数\n",
    "def get_nan_count(data):\n",
    "    df = data.copy()\n",
    "    df = df.replace(-99,np.nan)\n",
    "    df['nan_count'] = df.shape[1] - df.count(axis = 1).values  # 列数 - 非nan数\n",
    "    dummy = pd.get_dummies(pd.cut(df['nan_count'],7),prefix = 'nan') # 对缺失数据进行离散化,划分为7个区间\n",
    "    print(dummy.shape)\n",
    "    res = pd.concat([data,dummy],axis = 1) # 合并到原来的数据\n",
    "    print(res.shape)\n",
    "    return res\n",
    "data = get_nan_count(data)"
   ]
  },
  {
   "cell_type": "code",
   "execution_count": 48,
   "metadata": {},
   "outputs": [
    {
     "name": "stdout",
     "output_type": "stream",
     "text": [
      "重要的特征个数： 24\n"
     ]
    }
   ],
   "source": [
    "# 重要性top24\n",
    "imp_feat = [ 'x_80', 'x_2', 'x_81', 'x_95', 'x_1',\n",
    "             'x_52', 'x_63', 'x_54', 'x_43', 'x_40',\n",
    "             'x_93', 'x_42', 'x_157', 'x_62', 'x_29',\n",
    "             'x_61', 'x_55', 'x_79', 'x_59', 'x_69',\n",
    "             'x_48', 'x_56', 'x_7', 'x_64']\n",
    "print(\"重要的特征个数：\",len(imp_feat))\n",
    "# 对一些重要的特征进行填充，\n",
    "for feat in imp_feat[:10]: # 填充top 10 ,而不是所有\n",
    "    if feat in numerical_features:   # 数值型用均值\n",
    "        data[feat] = data[feat].replace(-99,np.nan)\n",
    "        data[feat] = data[feat].fillna(data[feat].mean()) # 非nan均值\n",
    "    if feat in categorical_features: # 类别型：不处理、中位数 、众数\n",
    "        print(\"这是类别特征：\",feat)\n",
    "\n",
    "pass"
   ]
  },
  {
   "cell_type": "code",
   "execution_count": 37,
   "metadata": {
    "collapsed": true
   },
   "outputs": [],
   "source": [
    "'''\n",
    "# 对类别型的特征，进行one-hot --------------- 没效果\n",
    "def set_one_hot(data,categorical_feature):\n",
    "    rest_feat = list(set(data.columns.values.tolist()) - set(categorical_feature))\n",
    "    df = data[rest_feat].copy()\n",
    "    dummies = [df]\n",
    "    for feat in categorical_feature:\n",
    "        dummy = pd.get_dummies(data[feat], prefix = feat)\n",
    "        dummies.append(dummy)\n",
    "    res = pd.concat(dummies,axis = 1) # 横向合并\n",
    "    print(\"data shape:\",res.shape)\n",
    "    return res\n",
    "\n",
    "da = set_one_hot(data,['x_157','x_140']) # 测试一下167-2+7+3\n",
    "data = set_one_hot(data,categorical_features)\n",
    "'''\n",
    "pass"
   ]
  },
  {
   "cell_type": "code",
   "execution_count": 38,
   "metadata": {
    "collapsed": true
   },
   "outputs": [],
   "source": [
    "'''\n",
    "# 对数值型的特征，处理为rank特征（鲁棒性好一点）----其实不处理不影响，因为排序不影响大小关系，是单调的\n",
    "for feat in numerical_features:\n",
    "    if feat not in imp_feat[:10]: #对填充均值的不rank\n",
    "        data[feat] = data[feat].rank() / float(data.shape[0]) # 排序，并且进行归一化\n",
    "'''\n",
    "pass"
   ]
  },
  {
   "cell_type": "code",
   "execution_count": 24,
   "metadata": {
    "collapsed": true
   },
   "outputs": [],
   "source": [
    "'''\n",
    "# 读取构造的特征\n",
    "most_feature = pd.read_csv(\"feature/most_feature30.csv\",header=0,sep=\",\")\n",
    "print(most_feature.shape)\n",
    "\n",
    "# 与data合并\n",
    "data = pd.merge(data,most_feature.iloc[:,:11],on='cust_id')\n",
    "print(data.shape)\n",
    "'''\n",
    "pass"
   ]
  },
  {
   "cell_type": "code",
   "execution_count": 49,
   "metadata": {},
   "outputs": [
    {
     "name": "stdout",
     "output_type": "stream",
     "text": [
      "(15000, 167)\n",
      "(10000, 167)\n"
     ]
    }
   ],
   "source": [
    "train = data.loc[data['y']!=-1,:] # train set\n",
    "test = data.loc[data['y']==-1,:]  # test set\n",
    "print(train.shape)\n",
    "print(test.shape)"
   ]
  },
  {
   "cell_type": "code",
   "execution_count": 50,
   "metadata": {},
   "outputs": [
    {
     "name": "stdout",
     "output_type": "stream",
     "text": [
      "所有特征的维度： 164\n"
     ]
    }
   ],
   "source": [
    "# 获取特征列，去除id，group, y\n",
    "no_features = ['cust_id','cust_group','y'] \n",
    "features = [feat for feat in train.columns.values if feat not in no_features]\n",
    "print(\"所有特征的维度：\",len(features))"
   ]
  },
  {
   "cell_type": "code",
   "execution_count": 51,
   "metadata": {},
   "outputs": [
    {
     "name": "stdout",
     "output_type": "stream",
     "text": [
      "X shape: (15000, 164)\n",
      "y shape: (15000,)\n",
      "test shape (10000, 164)\n"
     ]
    }
   ],
   "source": [
    "# 得到输入X ，输出y\n",
    "train_id = train['cust_id'].values\n",
    "y = train['y'].values\n",
    "X = train[features].values\n",
    "print(\"X shape:\",X.shape)\n",
    "print(\"y shape:\",y.shape)\n",
    "\n",
    "test_id = test['cust_id'].values\n",
    "test_data = test[features].values\n",
    "print(\"test shape\",test_data.shape)"
   ]
  },
  {
   "cell_type": "code",
   "execution_count": null,
   "metadata": {
    "collapsed": true
   },
   "outputs": [],
   "source": []
  },
  {
   "cell_type": "code",
   "execution_count": null,
   "metadata": {
    "collapsed": true
   },
   "outputs": [],
   "source": [
    "# ---------------xgb模型 5折cv--------------"
   ]
  },
  {
   "cell_type": "code",
   "execution_count": 52,
   "metadata": {
    "scrolled": false
   },
   "outputs": [
    {
     "name": "stdout",
     "output_type": "stream",
     "text": [
      "start：********************************\n",
      "[0]\ttrain-auc:0.766066\tvalid-auc:0.7183\n",
      "Multiple eval metrics have been passed: 'valid-auc' will be used for early stopping.\n",
      "\n",
      "Will train until valid-auc hasn't improved in 100 rounds.\n",
      "[100]\ttrain-auc:0.854692\tvalid-auc:0.802412\n",
      "[200]\ttrain-auc:0.872319\tvalid-auc:0.810094\n",
      "[300]\ttrain-auc:0.888624\tvalid-auc:0.815506\n",
      "[400]\ttrain-auc:0.903926\tvalid-auc:0.815928\n",
      "Stopping. Best iteration:\n",
      "[360]\ttrain-auc:0.897529\tvalid-auc:0.817648\n",
      "\n",
      "...........................auc value: 0.817647768578\n",
      "[0]\ttrain-auc:0.780705\tvalid-auc:0.733678\n",
      "Multiple eval metrics have been passed: 'valid-auc' will be used for early stopping.\n",
      "\n",
      "Will train until valid-auc hasn't improved in 100 rounds.\n",
      "[100]\ttrain-auc:0.858107\tvalid-auc:0.788498\n",
      "[200]\ttrain-auc:0.877001\tvalid-auc:0.791706\n",
      "[300]\ttrain-auc:0.89248\tvalid-auc:0.790802\n",
      "Stopping. Best iteration:\n",
      "[209]\ttrain-auc:0.878676\tvalid-auc:0.792405\n",
      "\n",
      "...........................auc value: 0.792404723564\n",
      "[0]\ttrain-auc:0.762538\tvalid-auc:0.798002\n",
      "Multiple eval metrics have been passed: 'valid-auc' will be used for early stopping.\n",
      "\n",
      "Will train until valid-auc hasn't improved in 100 rounds.\n",
      "[100]\ttrain-auc:0.844508\tvalid-auc:0.851663\n",
      "[200]\ttrain-auc:0.86444\tvalid-auc:0.854513\n",
      "[300]\ttrain-auc:0.881349\tvalid-auc:0.856794\n",
      "Stopping. Best iteration:\n",
      "[238]\ttrain-auc:0.871624\tvalid-auc:0.858164\n",
      "\n",
      "...........................auc value: 0.858163947376\n",
      "[0]\ttrain-auc:0.754456\tvalid-auc:0.738081\n",
      "Multiple eval metrics have been passed: 'valid-auc' will be used for early stopping.\n",
      "\n",
      "Will train until valid-auc hasn't improved in 100 rounds.\n",
      "[100]\ttrain-auc:0.85065\tvalid-auc:0.819617\n",
      "[200]\ttrain-auc:0.868666\tvalid-auc:0.829723\n",
      "[300]\ttrain-auc:0.886249\tvalid-auc:0.835815\n",
      "[400]\ttrain-auc:0.901173\tvalid-auc:0.837896\n",
      "[500]\ttrain-auc:0.914797\tvalid-auc:0.839121\n",
      "[600]\ttrain-auc:0.925548\tvalid-auc:0.839278\n",
      "[700]\ttrain-auc:0.935183\tvalid-auc:0.838286\n",
      "Stopping. Best iteration:\n",
      "[652]\ttrain-auc:0.93129\tvalid-auc:0.84063\n",
      "\n",
      "...........................auc value: 0.840630348697\n",
      "[0]\ttrain-auc:0.743565\tvalid-auc:0.70423\n",
      "Multiple eval metrics have been passed: 'valid-auc' will be used for early stopping.\n",
      "\n",
      "Will train until valid-auc hasn't improved in 100 rounds.\n",
      "[100]\ttrain-auc:0.858701\tvalid-auc:0.770016\n",
      "[200]\ttrain-auc:0.878071\tvalid-auc:0.777343\n",
      "[300]\ttrain-auc:0.892974\tvalid-auc:0.783969\n",
      "[400]\ttrain-auc:0.906726\tvalid-auc:0.788275\n",
      "[500]\ttrain-auc:0.919178\tvalid-auc:0.789673\n",
      "[600]\ttrain-auc:0.930701\tvalid-auc:0.789338\n",
      "Stopping. Best iteration:\n",
      "[504]\ttrain-auc:0.919801\tvalid-auc:0.789837\n",
      "\n",
      "...........................auc value: 0.789837342776\n",
      "......................validate result mean : 0.819736826198\n",
      "......................run with time:  5.875964136918386\n",
      "over:*********************************\n"
     ]
    }
   ],
   "source": [
    "import xgboost as xgb\n",
    "from sklearn.model_selection import StratifiedKFold\n",
    "from sklearn.metrics import roc_auc_score\n",
    "import time\n",
    "\n",
    "print(\"start：********************************\")\n",
    "start = time.time()\n",
    "\n",
    "auc_list = []\n",
    "pred_list = []\n",
    "\n",
    "skf = StratifiedKFold(n_splits=5, shuffle=True, random_state=2018)\n",
    "for train_index, test_index in skf.split(X, y):\n",
    "    X_train, X_test = X[train_index], X[test_index]\n",
    "    y_train, y_test = y[train_index], y[test_index]\n",
    "    #参数设置\n",
    "    params = {'booster': 'gbtree',\n",
    "              'objective':'binary:logistic',\n",
    "              'eta': 0.02,\n",
    "              'max_depth': 4,\n",
    "              'min_child_weight': 6,  \n",
    "              'colsample_bytree': 0.7,\n",
    "              'subsample': 0.7,\n",
    "              #'gamma':1,\n",
    "              #'lambda ':1,\n",
    "              #'alpha ':0，\n",
    "              'silent':1\n",
    "              }\n",
    "    params['eval_metric'] = ['auc'] \n",
    "    # 数据结构\n",
    "    dtrain = xgb.DMatrix(X_train, label = y_train)\n",
    "    dvali = xgb.DMatrix(X_test,label = y_test)\n",
    "    evallist  = [(dtrain,'train'),(dvali,'valid')]  # 'valid-auc' will be used for early stopping\n",
    "    # 模型train\n",
    "    model = xgb.train(params, dtrain,\n",
    "                      num_boost_round=2000, \n",
    "                      evals = evallist,\n",
    "                      early_stopping_rounds = 100,\n",
    "                      verbose_eval=100)\n",
    "    # 预测验证\n",
    "    pred = model.predict(dvali, ntree_limit = model.best_ntree_limit)\n",
    "    # 评估\n",
    "    auc = roc_auc_score(y_test,pred)\n",
    "    print('...........................auc value:',auc)\n",
    "    auc_list.append(auc)\n",
    "    # 预测\n",
    "    dtest = xgb.DMatrix(test_data)\n",
    "    pre = model.predict(dtest,ntree_limit = model.best_ntree_limit)\n",
    "    pred_list.append(pre)\n",
    "\n",
    "print('......................validate result mean :',np.mean(auc_list))\n",
    "\n",
    "end = time.time()\n",
    "print(\"......................run with time: \",(end - start) / 60.0)\n",
    "\n",
    "print(\"over:*********************************\")"
   ]
  },
  {
   "cell_type": "code",
   "execution_count": 53,
   "metadata": {},
   "outputs": [
    {
     "data": {
      "text/plain": [
       "[0.81764776857759069,\n",
       " 0.79240472356414382,\n",
       " 0.85816394737641666,\n",
       " 0.84063034869706998,\n",
       " 0.78983734277565865]"
      ]
     },
     "execution_count": 53,
     "metadata": {},
     "output_type": "execute_result"
    }
   ],
   "source": [
    "auc_list"
   ]
  },
  {
   "cell_type": "code",
   "execution_count": null,
   "metadata": {
    "collapsed": true
   },
   "outputs": [],
   "source": [
    "'''\n",
    "mean auc: 0.819351205629 = 0.75264 -----------157维度原始特征，什么都不做。baseline\n",
    "[0.81658949569903838,\n",
    " 0.78953858151287737,\n",
    " 0.85962740153333539,\n",
    " 0.83786295182248138,\n",
    " 0.79313759757660496]\n",
    "\n",
    "mean auc: 0.820033862075 = 0.7537  -----------157维度的特征，+ 7个缺失值个数离散的特征\n",
    "[0.81625517196305841,\n",
    " 0.79132612240350819,\n",
    " 0.85825003291505886,\n",
    " 0.84018979329343024,\n",
    " 0.79414818979884405]\n",
    " \n",
    " mean auc: 0.820585352584 = 0.75435 ------------157维度的特征，+ 7个缺失值个数离散的特征 + top10特征均值填充\n",
    " [0.8175095144010579,\n",
    " 0.79445052107070158,\n",
    " 0.85869058831869871,\n",
    " 0.84057464628971335,\n",
    " 0.7917014928397389]\n",
    "'''\n",
    "pass"
   ]
  },
  {
   "cell_type": "code",
   "execution_count": 44,
   "metadata": {},
   "outputs": [
    {
     "name": "stdout",
     "output_type": "stream",
     "text": [
      "mean auc: 0.820483062709\n",
      "5折结果： (5, 10000)\n",
      "result shape: (10000,)\n"
     ]
    }
   ],
   "source": [
    "mean_auc = np.mean(auc_list)\n",
    "print(\"mean auc:\",mean_auc)\n",
    "filepath = 'result/xgb_'+ str(mean_auc)+'.csv' # 线下平均分数\n",
    "# 转为array\n",
    "res =  np.array(pred_list)\n",
    "print(\"5折结果：\",res.shape)\n",
    "\n",
    "# 最后结果，mean，max，min\n",
    "r = res.mean(axis = 0)\n",
    "print('result shape:',r.shape)\n",
    "\n",
    "result = DataFrame()\n",
    "result['cust_id'] = test_id\n",
    "result['pred_prob'] = r\n",
    "result.to_csv(filepath,index=False,sep=\",\")"
   ]
  },
  {
   "cell_type": "code",
   "execution_count": null,
   "metadata": {
    "collapsed": true
   },
   "outputs": [],
   "source": []
  },
  {
   "cell_type": "code",
   "execution_count": null,
   "metadata": {
    "collapsed": true
   },
   "outputs": [],
   "source": []
  },
  {
   "cell_type": "code",
   "execution_count": null,
   "metadata": {
    "collapsed": true
   },
   "outputs": [],
   "source": []
  },
  {
   "cell_type": "code",
   "execution_count": null,
   "metadata": {
    "collapsed": true
   },
   "outputs": [],
   "source": []
  },
  {
   "cell_type": "code",
   "execution_count": null,
   "metadata": {
    "collapsed": true
   },
   "outputs": [],
   "source": []
  },
  {
   "cell_type": "code",
   "execution_count": null,
   "metadata": {
    "collapsed": true
   },
   "outputs": [],
   "source": []
  },
  {
   "cell_type": "code",
   "execution_count": null,
   "metadata": {
    "collapsed": true
   },
   "outputs": [],
   "source": []
  },
  {
   "cell_type": "code",
   "execution_count": null,
   "metadata": {
    "collapsed": true
   },
   "outputs": [],
   "source": []
  }
 ],
 "metadata": {
  "kernelspec": {
   "display_name": "Python 3",
   "language": "python",
   "name": "python3"
  },
  "language_info": {
   "codemirror_mode": {
    "name": "ipython",
    "version": 3
   },
   "file_extension": ".py",
   "mimetype": "text/x-python",
   "name": "python",
   "nbconvert_exporter": "python",
   "pygments_lexer": "ipython3",
   "version": "3.5.4"
  }
 },
 "nbformat": 4,
 "nbformat_minor": 1
}
